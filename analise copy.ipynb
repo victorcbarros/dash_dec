{
 "cells": [
  {
   "cell_type": "code",
   "execution_count": 36,
   "metadata": {},
   "outputs": [],
   "source": [
    "import pandas as pd\n",
    "import streamlit as st\n",
    "import plotly.express as px\n",
    "pd.set_option('display.max_columns', None)\n",
    "import matplotlib.pyplot as plt\n",
    "import seaborn as sns\n",
    "%matplotlib inline\n",
    "cores_equatorial = ['#00C0F3','#FABD0A','#2F2E79','#F15B40']\n",
    "import plotly.graph_objects as go\n"
   ]
  },
  {
   "cell_type": "markdown",
   "metadata": {},
   "source": [
    "Instruções: O estudo de caso é uma análise que o candidato deverá realizar seguindo as instruções que estão sendo solicitadas, mas este não deverá ficar restritos somente a elas. Caso o candidato identifique alguma análise complementar que seja importante para fechar a lógica da análise, isso deverá ser feito e demonstrado através de gráficos, ações prazos, etc.                                                                                                                                                             Não existe certo e errado nessa avaliação e o candidato pode ficar a vontade para trabalhar as informações a partir das solicitações abaixo. Boa Sorte!\t\t\t\t\t\t\t\t\t\t\t\t\t\t\t\t\t\t\t\t\t\t\t\n",
    "\t\t\t\t\t\t\t\t\t\t\t\t\t\t\t\t\t\t\t\t\t\t\t\t\t\t\t\t\t\t\t\t\t\t\t\t\t\t\t\t\n",
    "Desenvolver dashboard que exiba:\t\t\t\t\t\t\t\t\t\t\t\t\t\t\t\t\t\t\t\t\t\t\t\t\t\t\t\t\t\t\n",
    "\t\t\t\t\t\t\t\t\t\t\t\t\t\t\t\t\t\t\t\t\t\t\t\t\t\t\t\t\t\t\n",
    "1) DEC e FEC mensal das Regionais por abrangência\t\t\t\t\t\t\t\t\t\t\t\t\t\t\t\t\t\t\t\t\t\t\t\t\t\t\t\t\t\t\n",
    "2) Pareto de Causas do DEC\t\t\t\t\t\t\t\t\t\t\t\t\t\t\t\t\t\t\t\t\t\t\t\t\t\t\t\t\t\t\n",
    "3) TOP 20 equipamentos mais ofensores do DEC de cada regional e do Piauí como um todo\t\t\t\t\t\t\t\t\t\t\t\t\t\t\t\t\t\t\t\t\t\t\t\t\t\t\t\t\t\t\n",
    "4) Desenvolva uma visão que permita realizar uma busca por equipamento e visualizar: a quantidade de interrupções por mês, o DEC acumulado e o DEC de cada interrupção deste componente ao longo do período.\t\t\t\t\t\t\t\t\t\t\t\t\t\t\t\t\t\t\t\t\t\t\t\t\t\t\t\t\t\t\n",
    "\t\t\t\t\t\t\t\t\t\t\t\t\t\t\t\t\t\t\t\t\t\t\t\t\t\t\t\t\t\t\n",
    "Com base no dashboard desenvolvido responda:\n",
    "\n",
    "a) Qual a regional com maior contribuição para o indicador DEC?\t\t\t\n",
    "\n",
    "b) Qual a principal causa do DEC em cada regional?\t\t\t\n",
    "\n",
    "c) Qual a abrangência de maior impacto para o DEC por regional?\t\t\t\t\t\t\t\t\t\t\t\t\n",
    "\n",
    "d) Em relação ao FEC, defina um ranking entre as regionais de acordo com a sua performance.\t\t\n",
    "\t\t\t\t\t\t\t\t\t\t\t\t\t\t\t\t\t\t\t\t\t\t\t\t\t\t\t\t\n",
    "e) Indique, através da análise do FEC, quais seriam os principais conjuntos de cada regional onde devemos atuar para redução do indicador e qual o ganho esperado após a atuação.\t\t\t\t\t\t\t\t\t\t\t\t\t\t\t\t\t\t\t\t\t"
   ]
  },
  {
   "cell_type": "code",
   "execution_count": 3,
   "metadata": {},
   "outputs": [],
   "source": [
    "df = pd.read_excel('ESTUDO DE CASO DEC - TATICA.xlsx',sheet_name=1)"
   ]
  },
  {
   "cell_type": "code",
   "execution_count": 4,
   "metadata": {},
   "outputs": [
    {
     "data": {
      "text/html": [
       "<div>\n",
       "<style scoped>\n",
       "    .dataframe tbody tr th:only-of-type {\n",
       "        vertical-align: middle;\n",
       "    }\n",
       "\n",
       "    .dataframe tbody tr th {\n",
       "        vertical-align: top;\n",
       "    }\n",
       "\n",
       "    .dataframe thead th {\n",
       "        text-align: right;\n",
       "    }\n",
       "</style>\n",
       "<table border=\"1\" class=\"dataframe\">\n",
       "  <thead>\n",
       "    <tr style=\"text-align: right;\">\n",
       "      <th></th>\n",
       "      <th>OCORRENCIA_ID</th>\n",
       "      <th>DATA</th>\n",
       "      <th>DIA</th>\n",
       "      <th>MES</th>\n",
       "      <th>ANO</th>\n",
       "      <th>DATA_INICIO</th>\n",
       "      <th>TEMPO</th>\n",
       "      <th>SE_AL</th>\n",
       "      <th>OCO_INTERRUPCAO</th>\n",
       "      <th>CAUSA</th>\n",
       "      <th>DEFEITO</th>\n",
       "      <th>OCO_NUMERO</th>\n",
       "      <th>SE</th>\n",
       "      <th>AL</th>\n",
       "      <th>EQUIPAMENTO</th>\n",
       "      <th>TIPO</th>\n",
       "      <th>ABRANGENCIA</th>\n",
       "      <th>NR</th>\n",
       "      <th>CLI_INT</th>\n",
       "      <th>CHI</th>\n",
       "      <th>FEC</th>\n",
       "      <th>DEC</th>\n",
       "      <th>REGIONAL</th>\n",
       "      <th>CONJUNTO</th>\n",
       "      <th>MÊS01</th>\n",
       "    </tr>\n",
       "  </thead>\n",
       "  <tbody>\n",
       "    <tr>\n",
       "      <th>0</th>\n",
       "      <td>52921651.0</td>\n",
       "      <td>13/07/2024</td>\n",
       "      <td>13.0</td>\n",
       "      <td>7.0</td>\n",
       "      <td>2024.0</td>\n",
       "      <td>2024-07-13 21:23:42</td>\n",
       "      <td>0.544722</td>\n",
       "      <td>CPM-01C1</td>\n",
       "      <td>S</td>\n",
       "      <td>FALHA DE CONEXÃO</td>\n",
       "      <td>JUMPER BT</td>\n",
       "      <td>127109.0</td>\n",
       "      <td>CPM</td>\n",
       "      <td>01C1</td>\n",
       "      <td>NaN</td>\n",
       "      <td>CR</td>\n",
       "      <td>CR</td>\n",
       "      <td>1.0</td>\n",
       "      <td>1.0</td>\n",
       "      <td>1.0</td>\n",
       "      <td>6.791508e-07</td>\n",
       "      <td>3.699485e-07</td>\n",
       "      <td>METROPOLITANA</td>\n",
       "      <td>CAMPO MAIOR</td>\n",
       "      <td>7.0</td>\n",
       "    </tr>\n",
       "    <tr>\n",
       "      <th>1</th>\n",
       "      <td>52921650.0</td>\n",
       "      <td>13/07/2024</td>\n",
       "      <td>13.0</td>\n",
       "      <td>7.0</td>\n",
       "      <td>2024.0</td>\n",
       "      <td>2024-07-13 19:26:33</td>\n",
       "      <td>0.519722</td>\n",
       "      <td>CPM-01C1</td>\n",
       "      <td>S</td>\n",
       "      <td>FALHA DE CONEXÃO</td>\n",
       "      <td>JUMPER BT</td>\n",
       "      <td>127108.0</td>\n",
       "      <td>CPM</td>\n",
       "      <td>01C1</td>\n",
       "      <td>NaN</td>\n",
       "      <td>CR</td>\n",
       "      <td>CR</td>\n",
       "      <td>1.0</td>\n",
       "      <td>1.0</td>\n",
       "      <td>1.0</td>\n",
       "      <td>6.791508e-07</td>\n",
       "      <td>3.529698e-07</td>\n",
       "      <td>METROPOLITANA</td>\n",
       "      <td>CAMPO MAIOR</td>\n",
       "      <td>7.0</td>\n",
       "    </tr>\n",
       "    <tr>\n",
       "      <th>2</th>\n",
       "      <td>52921649.0</td>\n",
       "      <td>13/07/2024</td>\n",
       "      <td>13.0</td>\n",
       "      <td>7.0</td>\n",
       "      <td>2024.0</td>\n",
       "      <td>2024-07-13 20:45:21</td>\n",
       "      <td>0.575833</td>\n",
       "      <td>CPM-01C1</td>\n",
       "      <td>S</td>\n",
       "      <td>FALHA DE CONEXÃO</td>\n",
       "      <td>JUMPER BT</td>\n",
       "      <td>127107.0</td>\n",
       "      <td>CPM</td>\n",
       "      <td>01C1</td>\n",
       "      <td>NaN</td>\n",
       "      <td>CR</td>\n",
       "      <td>CR</td>\n",
       "      <td>1.0</td>\n",
       "      <td>1.0</td>\n",
       "      <td>1.0</td>\n",
       "      <td>6.791508e-07</td>\n",
       "      <td>3.910777e-07</td>\n",
       "      <td>METROPOLITANA</td>\n",
       "      <td>CAMPO MAIOR</td>\n",
       "      <td>7.0</td>\n",
       "    </tr>\n",
       "    <tr>\n",
       "      <th>3</th>\n",
       "      <td>52921648.0</td>\n",
       "      <td>13/07/2024</td>\n",
       "      <td>13.0</td>\n",
       "      <td>7.0</td>\n",
       "      <td>2024.0</td>\n",
       "      <td>2024-07-13 19:25:32</td>\n",
       "      <td>0.572222</td>\n",
       "      <td>CPM-01C1</td>\n",
       "      <td>S</td>\n",
       "      <td>FALHA DE CONEXÃO</td>\n",
       "      <td>JUMPER BT</td>\n",
       "      <td>127106.0</td>\n",
       "      <td>CPM</td>\n",
       "      <td>01C1</td>\n",
       "      <td>NaN</td>\n",
       "      <td>CR</td>\n",
       "      <td>CR</td>\n",
       "      <td>1.0</td>\n",
       "      <td>1.0</td>\n",
       "      <td>1.0</td>\n",
       "      <td>6.791508e-07</td>\n",
       "      <td>3.886252e-07</td>\n",
       "      <td>METROPOLITANA</td>\n",
       "      <td>CAMPO MAIOR</td>\n",
       "      <td>7.0</td>\n",
       "    </tr>\n",
       "    <tr>\n",
       "      <th>4</th>\n",
       "      <td>52921424.0</td>\n",
       "      <td>06/07/2024</td>\n",
       "      <td>6.0</td>\n",
       "      <td>7.0</td>\n",
       "      <td>2024.0</td>\n",
       "      <td>2024-07-06 11:06:53</td>\n",
       "      <td>0.513333</td>\n",
       "      <td>CMP-01C2</td>\n",
       "      <td>S</td>\n",
       "      <td>FALHA DE CONEXÃO</td>\n",
       "      <td>CONECTOR</td>\n",
       "      <td>126882.0</td>\n",
       "      <td>CMP</td>\n",
       "      <td>01C2</td>\n",
       "      <td>NaN</td>\n",
       "      <td>CR</td>\n",
       "      <td>CR</td>\n",
       "      <td>1.0</td>\n",
       "      <td>1.0</td>\n",
       "      <td>1.0</td>\n",
       "      <td>6.791508e-07</td>\n",
       "      <td>3.486308e-07</td>\n",
       "      <td>NORTE</td>\n",
       "      <td>CAMURUPIM</td>\n",
       "      <td>7.0</td>\n",
       "    </tr>\n",
       "  </tbody>\n",
       "</table>\n",
       "</div>"
      ],
      "text/plain": [
       "   OCORRENCIA_ID        DATA   DIA  MES     ANO         DATA_INICIO     TEMPO  \\\n",
       "0     52921651.0  13/07/2024  13.0  7.0  2024.0 2024-07-13 21:23:42  0.544722   \n",
       "1     52921650.0  13/07/2024  13.0  7.0  2024.0 2024-07-13 19:26:33  0.519722   \n",
       "2     52921649.0  13/07/2024  13.0  7.0  2024.0 2024-07-13 20:45:21  0.575833   \n",
       "3     52921648.0  13/07/2024  13.0  7.0  2024.0 2024-07-13 19:25:32  0.572222   \n",
       "4     52921424.0  06/07/2024   6.0  7.0  2024.0 2024-07-06 11:06:53  0.513333   \n",
       "\n",
       "      SE_AL OCO_INTERRUPCAO             CAUSA    DEFEITO  OCO_NUMERO   SE  \\\n",
       "0  CPM-01C1               S  FALHA DE CONEXÃO  JUMPER BT    127109.0  CPM   \n",
       "1  CPM-01C1               S  FALHA DE CONEXÃO  JUMPER BT    127108.0  CPM   \n",
       "2  CPM-01C1               S  FALHA DE CONEXÃO  JUMPER BT    127107.0  CPM   \n",
       "3  CPM-01C1               S  FALHA DE CONEXÃO  JUMPER BT    127106.0  CPM   \n",
       "4  CMP-01C2               S  FALHA DE CONEXÃO   CONECTOR    126882.0  CMP   \n",
       "\n",
       "     AL EQUIPAMENTO TIPO ABRANGENCIA   NR  CLI_INT  CHI           FEC  \\\n",
       "0  01C1         NaN   CR          CR  1.0      1.0  1.0  6.791508e-07   \n",
       "1  01C1         NaN   CR          CR  1.0      1.0  1.0  6.791508e-07   \n",
       "2  01C1         NaN   CR          CR  1.0      1.0  1.0  6.791508e-07   \n",
       "3  01C1         NaN   CR          CR  1.0      1.0  1.0  6.791508e-07   \n",
       "4  01C2         NaN   CR          CR  1.0      1.0  1.0  6.791508e-07   \n",
       "\n",
       "            DEC       REGIONAL     CONJUNTO  MÊS01  \n",
       "0  3.699485e-07  METROPOLITANA  CAMPO MAIOR    7.0  \n",
       "1  3.529698e-07  METROPOLITANA  CAMPO MAIOR    7.0  \n",
       "2  3.910777e-07  METROPOLITANA  CAMPO MAIOR    7.0  \n",
       "3  3.886252e-07  METROPOLITANA  CAMPO MAIOR    7.0  \n",
       "4  3.486308e-07          NORTE    CAMURUPIM    7.0  "
      ]
     },
     "execution_count": 4,
     "metadata": {},
     "output_type": "execute_result"
    }
   ],
   "source": [
    "df.head()"
   ]
  },
  {
   "cell_type": "code",
   "execution_count": 5,
   "metadata": {},
   "outputs": [
    {
     "data": {
      "text/plain": [
       "(155856, 25)"
      ]
     },
     "execution_count": 5,
     "metadata": {},
     "output_type": "execute_result"
    }
   ],
   "source": [
    "df.shape"
   ]
  },
  {
   "cell_type": "code",
   "execution_count": 6,
   "metadata": {},
   "outputs": [
    {
     "name": "stdout",
     "output_type": "stream",
     "text": [
      "<class 'pandas.core.frame.DataFrame'>\n",
      "RangeIndex: 155856 entries, 0 to 155855\n",
      "Data columns (total 25 columns):\n",
      " #   Column           Non-Null Count   Dtype         \n",
      "---  ------           --------------   -----         \n",
      " 0   OCORRENCIA_ID    155853 non-null  float64       \n",
      " 1   DATA             155853 non-null  object        \n",
      " 2   DIA              155853 non-null  float64       \n",
      " 3   MES              155853 non-null  float64       \n",
      " 4   ANO              155853 non-null  float64       \n",
      " 5   DATA_INICIO      155853 non-null  datetime64[ns]\n",
      " 6   TEMPO            155853 non-null  float64       \n",
      " 7   SE_AL            155853 non-null  object        \n",
      " 8   OCO_INTERRUPCAO  151647 non-null  object        \n",
      " 9   CAUSA            155853 non-null  object        \n",
      " 10  DEFEITO          155853 non-null  object        \n",
      " 11  OCO_NUMERO       155853 non-null  float64       \n",
      " 12  SE               155276 non-null  object        \n",
      " 13  AL               154957 non-null  object        \n",
      " 14  EQUIPAMENTO      57437 non-null   object        \n",
      " 15  TIPO             155637 non-null  object        \n",
      " 16  ABRANGENCIA      155853 non-null  object        \n",
      " 17  NR               155853 non-null  float64       \n",
      " 18  CLI_INT          153568 non-null  float64       \n",
      " 19  CHI              155798 non-null  float64       \n",
      " 20  FEC              153568 non-null  float64       \n",
      " 21  DEC              153568 non-null  float64       \n",
      " 22  REGIONAL         155276 non-null  object        \n",
      " 23  CONJUNTO         155276 non-null  object        \n",
      " 24  MÊS01            155853 non-null  float64       \n",
      "dtypes: datetime64[ns](1), float64(12), object(12)\n",
      "memory usage: 29.7+ MB\n"
     ]
    }
   ],
   "source": [
    "df.info()"
   ]
  },
  {
   "cell_type": "code",
   "execution_count": 7,
   "metadata": {},
   "outputs": [
    {
     "data": {
      "text/plain": [
       "Index(['OCORRENCIA_ID', 'DATA', 'DIA', 'MES', 'ANO', 'DATA_INICIO', 'TEMPO',\n",
       "       'SE_AL', 'OCO_INTERRUPCAO', 'CAUSA', 'DEFEITO', 'OCO_NUMERO', 'SE',\n",
       "       'AL', 'EQUIPAMENTO', 'TIPO', 'ABRANGENCIA', 'NR', 'CLI_INT', 'CHI',\n",
       "       'FEC', 'DEC', 'REGIONAL', 'CONJUNTO', 'MÊS01'],\n",
       "      dtype='object')"
      ]
     },
     "execution_count": 7,
     "metadata": {},
     "output_type": "execute_result"
    }
   ],
   "source": [
    "df.columns"
   ]
  },
  {
   "cell_type": "code",
   "execution_count": 8,
   "metadata": {},
   "outputs": [
    {
     "data": {
      "text/plain": [
       "ABRANGENCIA\n",
       "CR    98184\n",
       "TF    32699\n",
       "CH    24541\n",
       "AL      411\n",
       "SE       18\n",
       "Name: count, dtype: int64"
      ]
     },
     "execution_count": 8,
     "metadata": {},
     "output_type": "execute_result"
    }
   ],
   "source": [
    "df['ABRANGENCIA'].value_counts()"
   ]
  },
  {
   "cell_type": "code",
   "execution_count": 9,
   "metadata": {},
   "outputs": [],
   "source": [
    "# Substituindo o sigla da abrangencia pelo nome\n",
    "df['ABRANGENCIA'] = df['ABRANGENCIA'].replace(['CR'],'Cliente')\n",
    "df['ABRANGENCIA'] = df['ABRANGENCIA'].replace(['TF'],'Transformador')\n",
    "df['ABRANGENCIA'] = df['ABRANGENCIA'].replace(['CH'],'Chave')\n",
    "df['ABRANGENCIA'] = df['ABRANGENCIA'].replace(['AL'],'Alimentador')\n",
    "df['ABRANGENCIA'] = df['ABRANGENCIA'].replace(['SE'],'Subestação')"
   ]
  },
  {
   "cell_type": "code",
   "execution_count": 10,
   "metadata": {},
   "outputs": [
    {
     "data": {
      "text/plain": [
       "0         13/07/2024\n",
       "1         13/07/2024\n",
       "2         13/07/2024\n",
       "3         13/07/2024\n",
       "4         06/07/2024\n",
       "             ...    \n",
       "155851    02/01/2024\n",
       "155852    02/01/2024\n",
       "155853           NaN\n",
       "155854           NaN\n",
       "155855           NaN\n",
       "Name: DATA, Length: 155856, dtype: object"
      ]
     },
     "execution_count": 10,
     "metadata": {},
     "output_type": "execute_result"
    }
   ],
   "source": [
    "df['DATA']"
   ]
  },
  {
   "cell_type": "code",
   "execution_count": 11,
   "metadata": {},
   "outputs": [],
   "source": [
    "df['DATA'] = pd.to_datetime(df['DATA'], format='%d/%m/%Y')"
   ]
  },
  {
   "cell_type": "code",
   "execution_count": 12,
   "metadata": {},
   "outputs": [
    {
     "name": "stderr",
     "output_type": "stream",
     "text": [
      "C:\\Users\\Victor\\AppData\\Local\\Temp\\ipykernel_9000\\1015987261.py:2: FutureWarning: 'M' is deprecated and will be removed in a future version, please use 'ME' instead.\n",
      "  df_def_fec = df.groupby(['REGIONAL', pd.Grouper(key='DATA', freq='M')])[['DEC','FEC']].sum()\n"
     ]
    }
   ],
   "source": [
    "# Agrupar por REGIONAL e DATA (mensal)\n",
    "df_def_fec = df.groupby(['REGIONAL', pd.Grouper(key='DATA', freq='M')])[['DEC','FEC']].sum()\n",
    "\n",
    "# Resetar o índice para transformar em DataFrame\n",
    "df_def_fec = df_def_fec.reset_index()\n",
    "\n",
    "# Formatar a coluna DATA para mostrar apenas o mês e o ano\n",
    "df_def_fec['DATA'] = df_def_fec['DATA'].dt.to_period('M').astype(str)\n",
    "\n",
    "# Renomear colunas conforme necessário\n",
    "df_def_fec.columns = ['REGIONAL', 'MES', 'DEC','FEC']\n",
    "\n",
    "# Dicionário de meses em português\n",
    "meses_pt = {\n",
    "    '2024-01': 'Janeiro',\n",
    "    '2024-02': 'Fevereiro',\n",
    "    '2024-03': 'Março',\n",
    "    '2024-04': 'Abril',\n",
    "    '2024-05': 'Maio',\n",
    "    '2024-06': 'Junho',\n",
    "    '2024-07': 'Julho',\n",
    "    '2024-08': 'Agosto',\n",
    "    '2024-09': 'Setembro',\n",
    "    '2024-10': 'Outubro',\n",
    "    '2024-11': 'Novembro',\n",
    "    '2024-12': 'Dezembro'\n",
    "}\n",
    "\n",
    "# Substituir os valores na coluna 'MES' com os nomes dos meses em português\n",
    "df_def_fec['MES'] = df_def_fec['MES'].map(meses_pt)"
   ]
  },
  {
   "cell_type": "markdown",
   "metadata": {},
   "source": []
  },
  {
   "cell_type": "code",
   "execution_count": 13,
   "metadata": {},
   "outputs": [
    {
     "data": {
      "application/vnd.plotly.v1+json": {
       "config": {
        "plotlyServerURL": "https://plot.ly"
       },
       "data": [
        {
         "hovertemplate": "REGIONAL=CENTRO-SUL<br>Mês=%{x}<br>DEC=%{y}<extra></extra>",
         "legendgroup": "CENTRO-SUL",
         "line": {
          "color": "#00C0F3",
          "dash": "solid"
         },
         "marker": {
          "symbol": "circle"
         },
         "mode": "lines+markers",
         "name": "CENTRO-SUL",
         "orientation": "v",
         "showlegend": true,
         "type": "scatter",
         "x": [
          "Janeiro",
          "Fevereiro",
          "Março",
          "Abril",
          "Maio",
          "Junho",
          "Julho"
         ],
         "xaxis": "x",
         "y": [
          0.8682075910120577,
          0.5210407369374962,
          1.047867597548507,
          0.8592387270208377,
          0.23655273609866942,
          0.17967386649539993,
          0.14398815036519827
         ],
         "yaxis": "y"
        },
        {
         "hovertemplate": "REGIONAL=METROPOLITANA<br>Mês=%{x}<br>DEC=%{y}<extra></extra>",
         "legendgroup": "METROPOLITANA",
         "line": {
          "color": "#FABD0A",
          "dash": "solid"
         },
         "marker": {
          "symbol": "circle"
         },
         "mode": "lines+markers",
         "name": "METROPOLITANA",
         "orientation": "v",
         "showlegend": true,
         "type": "scatter",
         "x": [
          "Janeiro",
          "Fevereiro",
          "Março",
          "Abril",
          "Maio",
          "Junho",
          "Julho"
         ],
         "xaxis": "x",
         "y": [
          1.3950527458708954,
          1.6017824965931156,
          2.562177358273864,
          1.901827721434671,
          0.6796277246115879,
          0.40157150103574274,
          0.2839437710664094
         ],
         "yaxis": "y"
        },
        {
         "hovertemplate": "REGIONAL=NORTE<br>Mês=%{x}<br>DEC=%{y}<extra></extra>",
         "legendgroup": "NORTE",
         "line": {
          "color": "#2F2E79",
          "dash": "solid"
         },
         "marker": {
          "symbol": "circle"
         },
         "mode": "lines+markers",
         "name": "NORTE",
         "orientation": "v",
         "showlegend": true,
         "type": "scatter",
         "x": [
          "Janeiro",
          "Fevereiro",
          "Março",
          "Abril",
          "Maio",
          "Junho",
          "Julho"
         ],
         "xaxis": "x",
         "y": [
          0.7629503854671382,
          0.9044643003618438,
          1.224923382166541,
          1.0005563663861698,
          0.5725863504419726,
          0.24583194314934154,
          0.17921710795245613
         ],
         "yaxis": "y"
        },
        {
         "hovertemplate": "REGIONAL=SUL<br>Mês=%{x}<br>DEC=%{y}<extra></extra>",
         "legendgroup": "SUL",
         "line": {
          "color": "#F15B40",
          "dash": "solid"
         },
         "marker": {
          "symbol": "circle"
         },
         "mode": "lines+markers",
         "name": "SUL",
         "orientation": "v",
         "showlegend": true,
         "type": "scatter",
         "x": [
          "Janeiro",
          "Fevereiro",
          "Março",
          "Abril",
          "Maio",
          "Junho",
          "Julho"
         ],
         "xaxis": "x",
         "y": [
          1.316060612286155,
          0.6014208116184291,
          0.818054377417541,
          0.9044610549642038,
          0.2896390249265706,
          0.23245935452148053,
          0.14347888780451143
         ],
         "yaxis": "y"
        }
       ],
       "layout": {
        "height": 400,
        "legend": {
         "title": {
          "text": "REGIONAL"
         },
         "tracegroupgap": 0
        },
        "template": {
         "data": {
          "candlestick": [
           {
            "decreasing": {
             "line": {
              "color": "#000033"
             }
            },
            "increasing": {
             "line": {
              "color": "#000032"
             }
            },
            "type": "candlestick"
           }
          ],
          "contour": [
           {
            "colorscale": [
             [
              0,
              "#000011"
             ],
             [
              0.1111111111111111,
              "#000012"
             ],
             [
              0.2222222222222222,
              "#000013"
             ],
             [
              0.3333333333333333,
              "#000014"
             ],
             [
              0.4444444444444444,
              "#000015"
             ],
             [
              0.5555555555555556,
              "#000016"
             ],
             [
              0.6666666666666666,
              "#000017"
             ],
             [
              0.7777777777777778,
              "#000018"
             ],
             [
              0.8888888888888888,
              "#000019"
             ],
             [
              1,
              "#000020"
             ]
            ],
            "type": "contour"
           }
          ],
          "contourcarpet": [
           {
            "colorscale": [
             [
              0,
              "#000011"
             ],
             [
              0.1111111111111111,
              "#000012"
             ],
             [
              0.2222222222222222,
              "#000013"
             ],
             [
              0.3333333333333333,
              "#000014"
             ],
             [
              0.4444444444444444,
              "#000015"
             ],
             [
              0.5555555555555556,
              "#000016"
             ],
             [
              0.6666666666666666,
              "#000017"
             ],
             [
              0.7777777777777778,
              "#000018"
             ],
             [
              0.8888888888888888,
              "#000019"
             ],
             [
              1,
              "#000020"
             ]
            ],
            "type": "contourcarpet"
           }
          ],
          "heatmap": [
           {
            "colorscale": [
             [
              0,
              "#000011"
             ],
             [
              0.1111111111111111,
              "#000012"
             ],
             [
              0.2222222222222222,
              "#000013"
             ],
             [
              0.3333333333333333,
              "#000014"
             ],
             [
              0.4444444444444444,
              "#000015"
             ],
             [
              0.5555555555555556,
              "#000016"
             ],
             [
              0.6666666666666666,
              "#000017"
             ],
             [
              0.7777777777777778,
              "#000018"
             ],
             [
              0.8888888888888888,
              "#000019"
             ],
             [
              1,
              "#000020"
             ]
            ],
            "type": "heatmap"
           }
          ],
          "histogram2d": [
           {
            "colorscale": [
             [
              0,
              "#000011"
             ],
             [
              0.1111111111111111,
              "#000012"
             ],
             [
              0.2222222222222222,
              "#000013"
             ],
             [
              0.3333333333333333,
              "#000014"
             ],
             [
              0.4444444444444444,
              "#000015"
             ],
             [
              0.5555555555555556,
              "#000016"
             ],
             [
              0.6666666666666666,
              "#000017"
             ],
             [
              0.7777777777777778,
              "#000018"
             ],
             [
              0.8888888888888888,
              "#000019"
             ],
             [
              1,
              "#000020"
             ]
            ],
            "type": "histogram2d"
           }
          ],
          "icicle": [
           {
            "textfont": {
             "color": "white"
            },
            "type": "icicle"
           }
          ],
          "sankey": [
           {
            "textfont": {
             "color": "#000036"
            },
            "type": "sankey"
           }
          ],
          "scatter": [
           {
            "marker": {
             "line": {
              "width": 0
             }
            },
            "type": "scatter"
           }
          ],
          "table": [
           {
            "cells": {
             "fill": {
              "color": "#000038"
             },
             "font": {
              "color": "#000037"
             },
             "line": {
              "color": "#000039"
             }
            },
            "header": {
             "fill": {
              "color": "#000040"
             },
             "font": {
              "color": "#000036"
             },
             "line": {
              "color": "#000039"
             }
            },
            "type": "table"
           }
          ],
          "waterfall": [
           {
            "connector": {
             "line": {
              "color": "#000036",
              "width": 2
             }
            },
            "decreasing": {
             "marker": {
              "color": "#000033"
             }
            },
            "increasing": {
             "marker": {
              "color": "#000032"
             }
            },
            "totals": {
             "marker": {
              "color": "#000034"
             }
            },
            "type": "waterfall"
           }
          ]
         },
         "layout": {
          "coloraxis": {
           "colorscale": [
            [
             0,
             "#000011"
            ],
            [
             0.1111111111111111,
             "#000012"
            ],
            [
             0.2222222222222222,
             "#000013"
            ],
            [
             0.3333333333333333,
             "#000014"
            ],
            [
             0.4444444444444444,
             "#000015"
            ],
            [
             0.5555555555555556,
             "#000016"
            ],
            [
             0.6666666666666666,
             "#000017"
            ],
            [
             0.7777777777777778,
             "#000018"
            ],
            [
             0.8888888888888888,
             "#000019"
            ],
            [
             1,
             "#000020"
            ]
           ]
          },
          "colorscale": {
           "diverging": [
            [
             0,
             "#000021"
            ],
            [
             0.1,
             "#000022"
            ],
            [
             0.2,
             "#000023"
            ],
            [
             0.3,
             "#000024"
            ],
            [
             0.4,
             "#000025"
            ],
            [
             0.5,
             "#000026"
            ],
            [
             0.6,
             "#000027"
            ],
            [
             0.7,
             "#000028"
            ],
            [
             0.8,
             "#000029"
            ],
            [
             0.9,
             "#000030"
            ],
            [
             1,
             "#000031"
            ]
           ],
           "sequential": [
            [
             0,
             "#000011"
            ],
            [
             0.1111111111111111,
             "#000012"
            ],
            [
             0.2222222222222222,
             "#000013"
            ],
            [
             0.3333333333333333,
             "#000014"
            ],
            [
             0.4444444444444444,
             "#000015"
            ],
            [
             0.5555555555555556,
             "#000016"
            ],
            [
             0.6666666666666666,
             "#000017"
            ],
            [
             0.7777777777777778,
             "#000018"
            ],
            [
             0.8888888888888888,
             "#000019"
            ],
            [
             1,
             "#000020"
            ]
           ],
           "sequentialminus": [
            [
             0,
             "#000011"
            ],
            [
             0.1111111111111111,
             "#000012"
            ],
            [
             0.2222222222222222,
             "#000013"
            ],
            [
             0.3333333333333333,
             "#000014"
            ],
            [
             0.4444444444444444,
             "#000015"
            ],
            [
             0.5555555555555556,
             "#000016"
            ],
            [
             0.6666666666666666,
             "#000017"
            ],
            [
             0.7777777777777778,
             "#000018"
            ],
            [
             0.8888888888888888,
             "#000019"
            ],
            [
             1,
             "#000020"
            ]
           ]
          },
          "colorway": [
           "#000001",
           "#000002",
           "#000003",
           "#000004",
           "#000005",
           "#000006",
           "#000007",
           "#000008",
           "#000009",
           "#000010"
          ]
         }
        },
        "title": {
         "text": "DEC por Regional ao Longo do Tempo"
        },
        "xaxis": {
         "anchor": "y",
         "domain": [
          0,
          1
         ],
         "showgrid": false,
         "tickmode": "array",
         "ticktext": [
          "Janeiro",
          "Fevereiro",
          "Março",
          "Abril",
          "Maio",
          "Junho",
          "Julho",
          "Agosto",
          "Setembro",
          "Outubro",
          "Novembro",
          "Dezembro"
         ],
         "tickvals": [
          "Janeiro",
          "Fevereiro",
          "Março",
          "Abril",
          "Maio",
          "Junho",
          "Julho",
          "Agosto",
          "Setembro",
          "Outubro",
          "Novembro",
          "Dezembro"
         ],
         "title": {
          "text": "Mês"
         }
        },
        "yaxis": {
         "anchor": "x",
         "domain": [
          0,
          1
         ],
         "gridcolor": "LightGray",
         "gridwidth": 0.5,
         "showgrid": true,
         "title": {
          "text": "DEC"
         }
        }
       }
      }
     },
     "metadata": {},
     "output_type": "display_data"
    }
   ],
   "source": [
    "# Cores personalizadas\n",
    "cores_personalizadas = ['#00C0F3', '#FABD0A', '#2F2E79', '#F15B40']\n",
    "\n",
    "# Plotar o gráfico de linhas usando Plotly Express\n",
    "fig = px.line(df_def_fec, x='MES', y='DEC', color='REGIONAL',\n",
    "              color_discrete_sequence=cores_personalizadas,\n",
    "              title='DEC por Regional ao Longo do Tempo',\n",
    "              labels={'MES': 'Mês', 'DEC': 'DEC'},\n",
    "              height=400)\n",
    "\n",
    "# Adicionar marcadores e configurar grids\n",
    "fig.update_traces(mode='lines+markers')  # Adicionar marcadores aos pontos\n",
    "fig.update_layout(\n",
    "    xaxis=dict(\n",
    "        title='Mês',\n",
    "        showgrid=False,  # Remover grid do eixo x\n",
    "        tickmode='array',\n",
    "        tickvals=list(meses_pt.values()),  # Definir valores dos ticks\n",
    "        ticktext=list(meses_pt.values())  # Definir textos dos ticks\n",
    "    ),\n",
    "    yaxis=dict(\n",
    "        title='DEC',\n",
    "        showgrid=True,  # Mostrar grid do eixo y\n",
    "        gridcolor='LightGray',  # Cor do grid\n",
    "        gridwidth=0.5  # Largura do grid\n",
    "    )\n",
    ")\n",
    "\n",
    "# Exibir o gráfico\n",
    "fig.show()"
   ]
  },
  {
   "cell_type": "code",
   "execution_count": 14,
   "metadata": {},
   "outputs": [
    {
     "data": {
      "application/vnd.plotly.v1+json": {
       "config": {
        "plotlyServerURL": "https://plot.ly"
       },
       "data": [
        {
         "hovertemplate": "REGIONAL=CENTRO-SUL<br>Mês=%{x}<br>FEC=%{y}<extra></extra>",
         "legendgroup": "CENTRO-SUL",
         "line": {
          "color": "#00C0F3",
          "dash": "solid"
         },
         "marker": {
          "symbol": "circle"
         },
         "mode": "lines+markers",
         "name": "CENTRO-SUL",
         "orientation": "v",
         "showlegend": true,
         "type": "scatter",
         "x": [
          "Janeiro",
          "Fevereiro",
          "Março",
          "Abril",
          "Maio",
          "Junho",
          "Julho"
         ],
         "xaxis": "x",
         "y": [
          0.2083281548083538,
          0.13382938509005882,
          0.29199206480185436,
          0.17176335397272666,
          0.09404948428682713,
          0.06621992125925427,
          0.04227781750810056
         ],
         "yaxis": "y"
        },
        {
         "hovertemplate": "REGIONAL=METROPOLITANA<br>Mês=%{x}<br>FEC=%{y}<extra></extra>",
         "legendgroup": "METROPOLITANA",
         "line": {
          "color": "#FABD0A",
          "dash": "solid"
         },
         "marker": {
          "symbol": "circle"
         },
         "mode": "lines+markers",
         "name": "METROPOLITANA",
         "orientation": "v",
         "showlegend": true,
         "type": "scatter",
         "x": [
          "Janeiro",
          "Fevereiro",
          "Março",
          "Abril",
          "Maio",
          "Junho",
          "Julho"
         ],
         "xaxis": "x",
         "y": [
          0.39703903826811104,
          0.43564672476122746,
          0.6713623154152973,
          0.5003534980002403,
          0.3038052141124823,
          0.18881343523312194,
          0.10900098952274034
         ],
         "yaxis": "y"
        },
        {
         "hovertemplate": "REGIONAL=NORTE<br>Mês=%{x}<br>FEC=%{y}<extra></extra>",
         "legendgroup": "NORTE",
         "line": {
          "color": "#2F2E79",
          "dash": "solid"
         },
         "marker": {
          "symbol": "circle"
         },
         "mode": "lines+markers",
         "name": "NORTE",
         "orientation": "v",
         "showlegend": true,
         "type": "scatter",
         "x": [
          "Janeiro",
          "Fevereiro",
          "Março",
          "Abril",
          "Maio",
          "Junho",
          "Julho"
         ],
         "xaxis": "x",
         "y": [
          0.28040031865756315,
          0.2977505845790656,
          0.3102225101821686,
          0.26327281420403187,
          0.20633552631132127,
          0.10543476858275486,
          0.08626030356683216
         ],
         "yaxis": "y"
        },
        {
         "hovertemplate": "REGIONAL=SUL<br>Mês=%{x}<br>FEC=%{y}<extra></extra>",
         "legendgroup": "SUL",
         "line": {
          "color": "#F15B40",
          "dash": "solid"
         },
         "marker": {
          "symbol": "circle"
         },
         "mode": "lines+markers",
         "name": "SUL",
         "orientation": "v",
         "showlegend": true,
         "type": "scatter",
         "x": [
          "Janeiro",
          "Fevereiro",
          "Março",
          "Abril",
          "Maio",
          "Junho",
          "Julho"
         ],
         "xaxis": "x",
         "y": [
          0.3001405163040341,
          0.21008375967025864,
          0.21367646749210656,
          0.24391226186425538,
          0.11642886200809956,
          0.09755458165328401,
          0.04843092390997992
         ],
         "yaxis": "y"
        }
       ],
       "layout": {
        "height": 400,
        "legend": {
         "title": {
          "text": "REGIONAL"
         },
         "tracegroupgap": 0
        },
        "template": {
         "data": {
          "candlestick": [
           {
            "decreasing": {
             "line": {
              "color": "#000033"
             }
            },
            "increasing": {
             "line": {
              "color": "#000032"
             }
            },
            "type": "candlestick"
           }
          ],
          "contour": [
           {
            "colorscale": [
             [
              0,
              "#000011"
             ],
             [
              0.1111111111111111,
              "#000012"
             ],
             [
              0.2222222222222222,
              "#000013"
             ],
             [
              0.3333333333333333,
              "#000014"
             ],
             [
              0.4444444444444444,
              "#000015"
             ],
             [
              0.5555555555555556,
              "#000016"
             ],
             [
              0.6666666666666666,
              "#000017"
             ],
             [
              0.7777777777777778,
              "#000018"
             ],
             [
              0.8888888888888888,
              "#000019"
             ],
             [
              1,
              "#000020"
             ]
            ],
            "type": "contour"
           }
          ],
          "contourcarpet": [
           {
            "colorscale": [
             [
              0,
              "#000011"
             ],
             [
              0.1111111111111111,
              "#000012"
             ],
             [
              0.2222222222222222,
              "#000013"
             ],
             [
              0.3333333333333333,
              "#000014"
             ],
             [
              0.4444444444444444,
              "#000015"
             ],
             [
              0.5555555555555556,
              "#000016"
             ],
             [
              0.6666666666666666,
              "#000017"
             ],
             [
              0.7777777777777778,
              "#000018"
             ],
             [
              0.8888888888888888,
              "#000019"
             ],
             [
              1,
              "#000020"
             ]
            ],
            "type": "contourcarpet"
           }
          ],
          "heatmap": [
           {
            "colorscale": [
             [
              0,
              "#000011"
             ],
             [
              0.1111111111111111,
              "#000012"
             ],
             [
              0.2222222222222222,
              "#000013"
             ],
             [
              0.3333333333333333,
              "#000014"
             ],
             [
              0.4444444444444444,
              "#000015"
             ],
             [
              0.5555555555555556,
              "#000016"
             ],
             [
              0.6666666666666666,
              "#000017"
             ],
             [
              0.7777777777777778,
              "#000018"
             ],
             [
              0.8888888888888888,
              "#000019"
             ],
             [
              1,
              "#000020"
             ]
            ],
            "type": "heatmap"
           }
          ],
          "histogram2d": [
           {
            "colorscale": [
             [
              0,
              "#000011"
             ],
             [
              0.1111111111111111,
              "#000012"
             ],
             [
              0.2222222222222222,
              "#000013"
             ],
             [
              0.3333333333333333,
              "#000014"
             ],
             [
              0.4444444444444444,
              "#000015"
             ],
             [
              0.5555555555555556,
              "#000016"
             ],
             [
              0.6666666666666666,
              "#000017"
             ],
             [
              0.7777777777777778,
              "#000018"
             ],
             [
              0.8888888888888888,
              "#000019"
             ],
             [
              1,
              "#000020"
             ]
            ],
            "type": "histogram2d"
           }
          ],
          "icicle": [
           {
            "textfont": {
             "color": "white"
            },
            "type": "icicle"
           }
          ],
          "sankey": [
           {
            "textfont": {
             "color": "#000036"
            },
            "type": "sankey"
           }
          ],
          "scatter": [
           {
            "marker": {
             "line": {
              "width": 0
             }
            },
            "type": "scatter"
           }
          ],
          "table": [
           {
            "cells": {
             "fill": {
              "color": "#000038"
             },
             "font": {
              "color": "#000037"
             },
             "line": {
              "color": "#000039"
             }
            },
            "header": {
             "fill": {
              "color": "#000040"
             },
             "font": {
              "color": "#000036"
             },
             "line": {
              "color": "#000039"
             }
            },
            "type": "table"
           }
          ],
          "waterfall": [
           {
            "connector": {
             "line": {
              "color": "#000036",
              "width": 2
             }
            },
            "decreasing": {
             "marker": {
              "color": "#000033"
             }
            },
            "increasing": {
             "marker": {
              "color": "#000032"
             }
            },
            "totals": {
             "marker": {
              "color": "#000034"
             }
            },
            "type": "waterfall"
           }
          ]
         },
         "layout": {
          "coloraxis": {
           "colorscale": [
            [
             0,
             "#000011"
            ],
            [
             0.1111111111111111,
             "#000012"
            ],
            [
             0.2222222222222222,
             "#000013"
            ],
            [
             0.3333333333333333,
             "#000014"
            ],
            [
             0.4444444444444444,
             "#000015"
            ],
            [
             0.5555555555555556,
             "#000016"
            ],
            [
             0.6666666666666666,
             "#000017"
            ],
            [
             0.7777777777777778,
             "#000018"
            ],
            [
             0.8888888888888888,
             "#000019"
            ],
            [
             1,
             "#000020"
            ]
           ]
          },
          "colorscale": {
           "diverging": [
            [
             0,
             "#000021"
            ],
            [
             0.1,
             "#000022"
            ],
            [
             0.2,
             "#000023"
            ],
            [
             0.3,
             "#000024"
            ],
            [
             0.4,
             "#000025"
            ],
            [
             0.5,
             "#000026"
            ],
            [
             0.6,
             "#000027"
            ],
            [
             0.7,
             "#000028"
            ],
            [
             0.8,
             "#000029"
            ],
            [
             0.9,
             "#000030"
            ],
            [
             1,
             "#000031"
            ]
           ],
           "sequential": [
            [
             0,
             "#000011"
            ],
            [
             0.1111111111111111,
             "#000012"
            ],
            [
             0.2222222222222222,
             "#000013"
            ],
            [
             0.3333333333333333,
             "#000014"
            ],
            [
             0.4444444444444444,
             "#000015"
            ],
            [
             0.5555555555555556,
             "#000016"
            ],
            [
             0.6666666666666666,
             "#000017"
            ],
            [
             0.7777777777777778,
             "#000018"
            ],
            [
             0.8888888888888888,
             "#000019"
            ],
            [
             1,
             "#000020"
            ]
           ],
           "sequentialminus": [
            [
             0,
             "#000011"
            ],
            [
             0.1111111111111111,
             "#000012"
            ],
            [
             0.2222222222222222,
             "#000013"
            ],
            [
             0.3333333333333333,
             "#000014"
            ],
            [
             0.4444444444444444,
             "#000015"
            ],
            [
             0.5555555555555556,
             "#000016"
            ],
            [
             0.6666666666666666,
             "#000017"
            ],
            [
             0.7777777777777778,
             "#000018"
            ],
            [
             0.8888888888888888,
             "#000019"
            ],
            [
             1,
             "#000020"
            ]
           ]
          },
          "colorway": [
           "#000001",
           "#000002",
           "#000003",
           "#000004",
           "#000005",
           "#000006",
           "#000007",
           "#000008",
           "#000009",
           "#000010"
          ]
         }
        },
        "title": {
         "text": "FEC Mensal por Regional"
        },
        "xaxis": {
         "anchor": "y",
         "domain": [
          0,
          1
         ],
         "showgrid": false,
         "tickmode": "array",
         "ticktext": [
          "Janeiro",
          "Fevereiro",
          "Março",
          "Abril",
          "Maio",
          "Junho",
          "Julho",
          "Agosto",
          "Setembro",
          "Outubro",
          "Novembro",
          "Dezembro"
         ],
         "tickvals": [
          "Janeiro",
          "Fevereiro",
          "Março",
          "Abril",
          "Maio",
          "Junho",
          "Julho",
          "Agosto",
          "Setembro",
          "Outubro",
          "Novembro",
          "Dezembro"
         ],
         "title": {
          "text": "Mês"
         }
        },
        "yaxis": {
         "anchor": "x",
         "domain": [
          0,
          1
         ],
         "gridcolor": "LightGray",
         "gridwidth": 0.5,
         "showgrid": true,
         "title": {
          "text": "FEC"
         }
        }
       }
      }
     },
     "metadata": {},
     "output_type": "display_data"
    }
   ],
   "source": [
    "# Cores personalizadas\n",
    "cores_personalizadas = ['#00C0F3', '#FABD0A', '#2F2E79', '#F15B40']\n",
    "\n",
    "# Plotar o gráfico de linhas usando Plotly Express\n",
    "fig = px.line(df_def_fec, x='MES', y='FEC', color='REGIONAL',\n",
    "              color_discrete_sequence=cores_personalizadas,\n",
    "              title='FEC Mensal por Regional',\n",
    "              labels={'MES': 'Mês', 'FEC': 'FEC'},\n",
    "              height=400)\n",
    "\n",
    "# Adicionar marcadores e configurar grids\n",
    "fig.update_traces(mode='lines+markers')  # Adicionar marcadores aos pontos\n",
    "fig.update_layout(\n",
    "    xaxis=dict(\n",
    "        title='Mês',\n",
    "        showgrid=False,  # Remover grid do eixo x\n",
    "        tickmode='array',\n",
    "        tickvals=list(meses_pt.values()),  # Definir valores dos ticks\n",
    "        ticktext=list(meses_pt.values())  # Definir textos dos ticks\n",
    "    ),\n",
    "    yaxis=dict(\n",
    "        title='FEC',\n",
    "        showgrid=True,  # Mostrar grid do eixo y\n",
    "        gridcolor='LightGray',  # Cor do grid\n",
    "        gridwidth=0.5  # Largura do grid\n",
    "    )\n",
    ")\n",
    "\n",
    "# Exibir o gráfico\n",
    "fig.show()"
   ]
  },
  {
   "cell_type": "code",
   "execution_count": 15,
   "metadata": {},
   "outputs": [
    {
     "data": {
      "text/plain": [
       "CAUSA\n",
       "FALHA DE CONEXÃO                            67449\n",
       "ARVORE NA REDE                              22317\n",
       "CAUSA NÃO IDENTIFICADA                       9911\n",
       "ANIMAL NO CIRCUITO                           8914\n",
       "SOBRECARGA                                   8362\n",
       "CONDUTOR PARTIDO                             8350\n",
       "OBJETO NA REDE                               8305\n",
       "RAMAL PARTIDO                                7101\n",
       "REDE TRANÇADA                                2266\n",
       "TRANSFORMADOR AVARIADO                       2234\n",
       "INCENDIO                                     1774\n",
       "DESLIGAMENTO PROGRAMADO COLETIVO             1632\n",
       "DEFEITO EM MEDIDOR                           1598\n",
       "POSTE AVARIADO / ADERNADO                    1175\n",
       "DEFEITO EM ISOLADOR                          1029\n",
       "RAMAL TRANÇADO                                770\n",
       "FALHA EM EQUIPAMENTO                          717\n",
       "ELO FUSIVEL INADEQUADO                        592\n",
       "FURTO                                         344\n",
       "FALHA OPERACIONAL                             310\n",
       "FALHA CIRCUITO DE ILUMINAÇÃO PÚBLICA          181\n",
       "FALHA EM SUPRIMENTO                           170\n",
       "CORTE INDEVIDO                                142\n",
       "INTERRUPÇÃO COLETIVA POR DEFEITO INTERNO      104\n",
       "INTERRUPÇÃO EM TEMPO REAL                      95\n",
       "MANOBRA DE URGENCIA                            11\n",
       "Name: count, dtype: int64"
      ]
     },
     "execution_count": 15,
     "metadata": {},
     "output_type": "execute_result"
    }
   ],
   "source": [
    "df.CAUSA.value_counts()"
   ]
  },
  {
   "cell_type": "code",
   "execution_count": 22,
   "metadata": {},
   "outputs": [],
   "source": [
    "# Agrupar por REGIONAL e DATA (mensal)\n",
    "df_causa = df.groupby('CAUSA' )[['DEC']].sum().sort_values(by='DEC',ascending=False)\n",
    "df_causa.reset_index(inplace=True)"
   ]
  },
  {
   "cell_type": "code",
   "execution_count": 26,
   "metadata": {},
   "outputs": [
    {
     "data": {
      "text/plain": [
       "np.float64(21.88381528610775)"
      ]
     },
     "execution_count": 26,
     "metadata": {},
     "output_type": "execute_result"
    }
   ],
   "source": [
    "df_causa['DEC'].sum()"
   ]
  },
  {
   "cell_type": "code",
   "execution_count": 34,
   "metadata": {},
   "outputs": [],
   "source": [
    "df_causa['PERCENTUAL'] = (df_causa['DEC'] / df_causa['DEC'].sum()) * 100\n",
    "df_causa['PERCENTUAL ACUMULADO'] = df_causa['PERCENTUAL'].cumsum() / df_causa['PERCENTUAL'].sum() * 100"
   ]
  },
  {
   "cell_type": "code",
   "execution_count": 33,
   "metadata": {},
   "outputs": [
    {
     "data": {
      "text/plain": [
       "np.float64(80.91765837986709)"
      ]
     },
     "execution_count": 33,
     "metadata": {},
     "output_type": "execute_result"
    }
   ],
   "source": [
    "df_causa['PERCENTUAL'].head(7).sum()"
   ]
  },
  {
   "cell_type": "code",
   "execution_count": 73,
   "metadata": {},
   "outputs": [
    {
     "data": {
      "application/vnd.plotly.v1+json": {
       "config": {
        "plotlyServerURL": "https://plot.ly"
       },
       "data": [
        {
         "marker": {
          "color": "#00C0F3"
         },
         "name": "DEC",
         "textposition": "none",
         "type": "bar",
         "x": [
          "ARVORE NA REDE",
          "CAUSA NÃO IDENTIFICADA",
          "CONDUTOR PARTIDO",
          "FALHA DE CONEXÃO",
          "OBJETO NA REDE",
          "ANIMAL NO CIRCUITO",
          "DEFEITO EM ISOLADOR",
          "SOBRECARGA",
          "POSTE AVARIADO / ADERNADO",
          "DESLIGAMENTO PROGRAMADO COLETIVO",
          "REDE TRANÇADA",
          "FALHA EM EQUIPAMENTO",
          "TRANSFORMADOR AVARIADO",
          "ELO FUSIVEL INADEQUADO",
          "FALHA EM SUPRIMENTO",
          "RAMAL TRANÇADO",
          "RAMAL PARTIDO",
          "INCENDIO",
          "DEFEITO EM MEDIDOR",
          "FALHA OPERACIONAL",
          "INTERRUPÇÃO EM TEMPO REAL",
          "FALHA CIRCUITO DE ILUMINAÇÃO PÚBLICA",
          "INTERRUPÇÃO COLETIVA POR DEFEITO INTERNO",
          "FURTO",
          "MANOBRA DE URGENCIA",
          "CORTE INDEVIDO"
         ],
         "y": [
          6.360765067357046,
          2.94541990819692,
          2.3762297319701116,
          1.8785362232257052,
          1.7547568306159376,
          1.4678094590314719,
          0.9243536732966127,
          0.7607196168864963,
          0.681650738693478,
          0.5594037065259526,
          0.5209838997488878,
          0.5168889448056395,
          0.42225777576749135,
          0.19638166838378632,
          0.15397947062910403,
          0.08640162843764446,
          0.0798404606815822,
          0.04998203476301371,
          0.04190204751142917,
          0.031603659204233005,
          0.02969572402117954,
          0.019157253447690255,
          0.0160182657234922,
          0.006917343119745681,
          0.0013564260457960451,
          0.0008037280173029518
         ]
        },
        {
         "line": {
          "color": "#FABD0A",
          "width": 2
         },
         "marker": {
          "size": 8
         },
         "mode": "lines+markers+text",
         "name": "Percentual Acumulado",
         "text": [
          "29.07%",
          "42.53%",
          "53.38%",
          "61.97%",
          "69.99%",
          "76.69%",
          "80.92%",
          "",
          "",
          "",
          "",
          "",
          "",
          "",
          "",
          "",
          "",
          "",
          "",
          "",
          "",
          "",
          "",
          "",
          "",
          ""
         ],
         "textfont": {
          "size": 12
         },
         "textposition": "top center",
         "type": "scatter",
         "x": [
          "ARVORE NA REDE",
          "CAUSA NÃO IDENTIFICADA",
          "CONDUTOR PARTIDO",
          "FALHA DE CONEXÃO",
          "OBJETO NA REDE",
          "ANIMAL NO CIRCUITO",
          "DEFEITO EM ISOLADOR",
          "SOBRECARGA",
          "POSTE AVARIADO / ADERNADO",
          "DESLIGAMENTO PROGRAMADO COLETIVO",
          "REDE TRANÇADA",
          "FALHA EM EQUIPAMENTO",
          "TRANSFORMADOR AVARIADO",
          "ELO FUSIVEL INADEQUADO",
          "FALHA EM SUPRIMENTO",
          "RAMAL TRANÇADO",
          "RAMAL PARTIDO",
          "INCENDIO",
          "DEFEITO EM MEDIDOR",
          "FALHA OPERACIONAL",
          "INTERRUPÇÃO EM TEMPO REAL",
          "FALHA CIRCUITO DE ILUMINAÇÃO PÚBLICA",
          "INTERRUPÇÃO COLETIVA POR DEFEITO INTERNO",
          "FURTO",
          "MANOBRA DE URGENCIA",
          "CORTE INDEVIDO"
         ],
         "y": [
          29.066069989153014,
          42.52542280167071,
          53.383811528240635,
          61.96794641818478,
          69.9864605925842,
          76.69374375980807,
          80.91765837986709,
          84.39383292685943,
          87.50869534815851,
          90.0649393084202,
          92.44562061530189,
          94.80758966890549,
          96.73713335334496,
          97.63451649159715,
          98.33813909403638,
          98.73295886064487,
          99.09779679972337,
          99.32619406093926,
          99.51766911665328,
          99.66208479002215,
          99.79778198739353,
          99.88532272559311,
          99.95851958598547,
          99.99012898786219,
          99.9963272948213,
          99.99999999999997
         ],
         "yaxis": "y2"
        }
       ],
       "layout": {
        "margin": {
         "b": 120,
         "l": 60,
         "r": 60,
         "t": 80
        },
        "showlegend": false,
        "template": {
         "data": {
          "candlestick": [
           {
            "decreasing": {
             "line": {
              "color": "#000033"
             }
            },
            "increasing": {
             "line": {
              "color": "#000032"
             }
            },
            "type": "candlestick"
           }
          ],
          "contour": [
           {
            "colorscale": [
             [
              0,
              "#000011"
             ],
             [
              0.1111111111111111,
              "#000012"
             ],
             [
              0.2222222222222222,
              "#000013"
             ],
             [
              0.3333333333333333,
              "#000014"
             ],
             [
              0.4444444444444444,
              "#000015"
             ],
             [
              0.5555555555555556,
              "#000016"
             ],
             [
              0.6666666666666666,
              "#000017"
             ],
             [
              0.7777777777777778,
              "#000018"
             ],
             [
              0.8888888888888888,
              "#000019"
             ],
             [
              1,
              "#000020"
             ]
            ],
            "type": "contour"
           }
          ],
          "contourcarpet": [
           {
            "colorscale": [
             [
              0,
              "#000011"
             ],
             [
              0.1111111111111111,
              "#000012"
             ],
             [
              0.2222222222222222,
              "#000013"
             ],
             [
              0.3333333333333333,
              "#000014"
             ],
             [
              0.4444444444444444,
              "#000015"
             ],
             [
              0.5555555555555556,
              "#000016"
             ],
             [
              0.6666666666666666,
              "#000017"
             ],
             [
              0.7777777777777778,
              "#000018"
             ],
             [
              0.8888888888888888,
              "#000019"
             ],
             [
              1,
              "#000020"
             ]
            ],
            "type": "contourcarpet"
           }
          ],
          "heatmap": [
           {
            "colorscale": [
             [
              0,
              "#000011"
             ],
             [
              0.1111111111111111,
              "#000012"
             ],
             [
              0.2222222222222222,
              "#000013"
             ],
             [
              0.3333333333333333,
              "#000014"
             ],
             [
              0.4444444444444444,
              "#000015"
             ],
             [
              0.5555555555555556,
              "#000016"
             ],
             [
              0.6666666666666666,
              "#000017"
             ],
             [
              0.7777777777777778,
              "#000018"
             ],
             [
              0.8888888888888888,
              "#000019"
             ],
             [
              1,
              "#000020"
             ]
            ],
            "type": "heatmap"
           }
          ],
          "histogram2d": [
           {
            "colorscale": [
             [
              0,
              "#000011"
             ],
             [
              0.1111111111111111,
              "#000012"
             ],
             [
              0.2222222222222222,
              "#000013"
             ],
             [
              0.3333333333333333,
              "#000014"
             ],
             [
              0.4444444444444444,
              "#000015"
             ],
             [
              0.5555555555555556,
              "#000016"
             ],
             [
              0.6666666666666666,
              "#000017"
             ],
             [
              0.7777777777777778,
              "#000018"
             ],
             [
              0.8888888888888888,
              "#000019"
             ],
             [
              1,
              "#000020"
             ]
            ],
            "type": "histogram2d"
           }
          ],
          "icicle": [
           {
            "textfont": {
             "color": "white"
            },
            "type": "icicle"
           }
          ],
          "sankey": [
           {
            "textfont": {
             "color": "#000036"
            },
            "type": "sankey"
           }
          ],
          "scatter": [
           {
            "marker": {
             "line": {
              "width": 0
             }
            },
            "type": "scatter"
           }
          ],
          "table": [
           {
            "cells": {
             "fill": {
              "color": "#000038"
             },
             "font": {
              "color": "#000037"
             },
             "line": {
              "color": "#000039"
             }
            },
            "header": {
             "fill": {
              "color": "#000040"
             },
             "font": {
              "color": "#000036"
             },
             "line": {
              "color": "#000039"
             }
            },
            "type": "table"
           }
          ],
          "waterfall": [
           {
            "connector": {
             "line": {
              "color": "#000036",
              "width": 2
             }
            },
            "decreasing": {
             "marker": {
              "color": "#000033"
             }
            },
            "increasing": {
             "marker": {
              "color": "#000032"
             }
            },
            "totals": {
             "marker": {
              "color": "#000034"
             }
            },
            "type": "waterfall"
           }
          ]
         },
         "layout": {
          "coloraxis": {
           "colorscale": [
            [
             0,
             "#000011"
            ],
            [
             0.1111111111111111,
             "#000012"
            ],
            [
             0.2222222222222222,
             "#000013"
            ],
            [
             0.3333333333333333,
             "#000014"
            ],
            [
             0.4444444444444444,
             "#000015"
            ],
            [
             0.5555555555555556,
             "#000016"
            ],
            [
             0.6666666666666666,
             "#000017"
            ],
            [
             0.7777777777777778,
             "#000018"
            ],
            [
             0.8888888888888888,
             "#000019"
            ],
            [
             1,
             "#000020"
            ]
           ]
          },
          "colorscale": {
           "diverging": [
            [
             0,
             "#000021"
            ],
            [
             0.1,
             "#000022"
            ],
            [
             0.2,
             "#000023"
            ],
            [
             0.3,
             "#000024"
            ],
            [
             0.4,
             "#000025"
            ],
            [
             0.5,
             "#000026"
            ],
            [
             0.6,
             "#000027"
            ],
            [
             0.7,
             "#000028"
            ],
            [
             0.8,
             "#000029"
            ],
            [
             0.9,
             "#000030"
            ],
            [
             1,
             "#000031"
            ]
           ],
           "sequential": [
            [
             0,
             "#000011"
            ],
            [
             0.1111111111111111,
             "#000012"
            ],
            [
             0.2222222222222222,
             "#000013"
            ],
            [
             0.3333333333333333,
             "#000014"
            ],
            [
             0.4444444444444444,
             "#000015"
            ],
            [
             0.5555555555555556,
             "#000016"
            ],
            [
             0.6666666666666666,
             "#000017"
            ],
            [
             0.7777777777777778,
             "#000018"
            ],
            [
             0.8888888888888888,
             "#000019"
            ],
            [
             1,
             "#000020"
            ]
           ],
           "sequentialminus": [
            [
             0,
             "#000011"
            ],
            [
             0.1111111111111111,
             "#000012"
            ],
            [
             0.2222222222222222,
             "#000013"
            ],
            [
             0.3333333333333333,
             "#000014"
            ],
            [
             0.4444444444444444,
             "#000015"
            ],
            [
             0.5555555555555556,
             "#000016"
            ],
            [
             0.6666666666666666,
             "#000017"
            ],
            [
             0.7777777777777778,
             "#000018"
            ],
            [
             0.8888888888888888,
             "#000019"
            ],
            [
             1,
             "#000020"
            ]
           ]
          },
          "colorway": [
           "#000001",
           "#000002",
           "#000003",
           "#000004",
           "#000005",
           "#000006",
           "#000007",
           "#000008",
           "#000009",
           "#000010"
          ]
         }
        },
        "title": {
         "font": {
          "size": 18
         },
         "text": "Gráfico de Pareto - DEC por Causa"
        },
        "width": 1090,
        "xaxis": {
         "tickangle": -70,
         "tickfont": {
          "size": 12
         },
         "title": {
          "font": {
           "size": 14
          }
         }
        },
        "yaxis": {
         "gridcolor": "rgba(0,0,0,0)",
         "tickfont": {
          "size": 12
         },
         "title": {
          "font": {
           "size": 14
          },
          "text": "DEC"
         }
        },
        "yaxis2": {
         "gridcolor": "rgba(211, 211, 211, 0.5)",
         "overlaying": "y",
         "range": [
          0,
          110
         ],
         "showgrid": true,
         "side": "right",
         "tickfont": {
          "size": 12
         },
         "title": {
          "font": {
           "size": 14
          },
          "text": "Percentual Acumulado"
         }
        }
       }
      }
     },
     "metadata": {},
     "output_type": "display_data"
    }
   ],
   "source": [
    "import plotly.graph_objects as go\n",
    "\n",
    "# Criar o gráfico de barras para o DEC por causa\n",
    "fig = go.Figure()\n",
    "\n",
    "# Adicionar barras sem rótulos de dados\n",
    "fig.add_trace(go.Bar(\n",
    "    x=df_causa['CAUSA'],\n",
    "    y=df_causa['DEC'],\n",
    "    name='DEC',\n",
    "    marker=dict(color='#00C0F3'),\n",
    "    textposition='none'  # Remove os rótulos de dados das barras\n",
    "))\n",
    "\n",
    "# Adicionar linha de Percentual Acumulado com rótulos condicionais\n",
    "fig.add_trace(go.Scatter(\n",
    "    x=df_causa['CAUSA'],\n",
    "    y=df_causa['PERCENTUAL ACUMULADO'],\n",
    "    name='Percentual Acumulado',\n",
    "    yaxis='y2',\n",
    "    mode='lines+markers+text',\n",
    "    line=dict(color='#FABD0A', width=2),\n",
    "    marker=dict(size=8),  # Tamanho dos marcadores\n",
    "    text=[f'{val:.2f}%' if val <= 81 else '' for val in df_causa['PERCENTUAL ACUMULADO']],  # Adiciona rótulos com porcentagem até 81%\n",
    "    textposition='top center',  # Posiciona os rótulos acima dos pontos\n",
    "    textfont=dict(size=12),  # Ajusta o tamanho da fonte dos rótulos\n",
    "))\n",
    "\n",
    "# Atualizar layout para ajustar espaçamento, tamanho de fonte e largura do gráfico\n",
    "fig.update_layout(\n",
    "    title='Gráfico de Pareto - DEC por Causa',\n",
    "    title_font=dict(size=18),\n",
    "    xaxis=dict(\n",
    "        \n",
    "        title_font=dict(size=14),\n",
    "        tickangle=-70,  # Gira os rótulos do eixo X em 90 graus\n",
    "        tickfont=dict(size=12),  # Ajusta o tamanho da fonte dos rótulos do eixo X\n",
    "    ),\n",
    "    yaxis=dict(\n",
    "        title='DEC',\n",
    "        title_font=dict(size=14),\n",
    "        tickfont=dict(size=12),  # Ajusta o tamanho da fonte dos rótulos do eixo Y\n",
    "        gridcolor='rgba(0,0,0,0)'  # Remove as grades verticais\n",
    "    ),\n",
    "    yaxis2=dict(\n",
    "        title='Percentual Acumulado',\n",
    "        overlaying='y',\n",
    "        side='right',\n",
    "        range=[0, 110],  # Escala da porcentagem ajustada de 0 a 100%\n",
    "        title_font=dict(size=14),\n",
    "        tickfont=dict(size=12),  # Ajusta o tamanho da fonte dos rótulos do eixo Y2\n",
    "        showgrid=True,  # Exibe a grade horizontal para o eixo Y2\n",
    "        gridcolor='rgba(211, 211, 211, 0.5)'  # Define a cor e a opacidade da grade horizontal\n",
    "    ),\n",
    "    width=1090,  # Aumenta a largura do gráfico\n",
    "    margin=dict(l=60, r=60, t=80, b=120),  # Ajusta as margens do gráfico\n",
    "    showlegend=False\n",
    ")\n",
    "\n",
    "# Exibir o gráfico\n",
    "fig.show()\n"
   ]
  },
  {
   "cell_type": "code",
   "execution_count": 83,
   "metadata": {},
   "outputs": [
    {
     "data": {
      "application/vnd.plotly.v1+json": {
       "config": {
        "plotlyServerURL": "https://plot.ly"
       },
       "data": [
        {
         "marker": {
          "color": "#00C0F3"
         },
         "name": "DEC",
         "textposition": "none",
         "type": "bar",
         "x": [
          "ARVORE NA REDE",
          "CAUSA NÃO IDENTIFICADA",
          "CONDUTOR PARTIDO",
          "FALHA DE CONEXÃO",
          "OBJETO NA REDE",
          "ANIMAL NO CIRCUITO",
          "DEFEITO EM ISOLADOR",
          "SOBRECARGA",
          "POSTE AVARIADO / ADERNADO",
          "DESLIGAMENTO PROGRAMADO COLETIVO",
          "REDE TRANÇADA",
          "FALHA EM EQUIPAMENTO",
          "TRANSFORMADOR AVARIADO",
          "ELO FUSIVEL INADEQUADO",
          "FALHA EM SUPRIMENTO",
          "RAMAL TRANÇADO",
          "RAMAL PARTIDO",
          "INCENDIO",
          "DEFEITO EM MEDIDOR",
          "FALHA OPERACIONAL",
          "INTERRUPÇÃO EM TEMPO REAL",
          "FALHA CIRCUITO DE ILUMINAÇÃO PÚBLICA",
          "INTERRUPÇÃO COLETIVA POR DEFEITO INTERNO",
          "FURTO",
          "MANOBRA DE URGENCIA",
          "CORTE INDEVIDO"
         ],
         "y": [
          6.360765067357046,
          2.94541990819692,
          2.3762297319701116,
          1.8785362232257052,
          1.7547568306159376,
          1.4678094590314719,
          0.9243536732966127,
          0.7607196168864963,
          0.681650738693478,
          0.5594037065259526,
          0.5209838997488878,
          0.5168889448056395,
          0.42225777576749135,
          0.19638166838378632,
          0.15397947062910403,
          0.08640162843764446,
          0.0798404606815822,
          0.04998203476301371,
          0.04190204751142917,
          0.031603659204233005,
          0.02969572402117954,
          0.019157253447690255,
          0.0160182657234922,
          0.006917343119745681,
          0.0013564260457960451,
          0.0008037280173029518
         ]
        },
        {
         "line": {
          "color": "#FABD0A",
          "width": 2
         },
         "marker": {
          "size": 8
         },
         "mode": "lines+markers+text",
         "name": "Percentual Acumulado",
         "text": [
          "29.07%",
          "42.53%",
          "53.38%",
          "61.97%",
          "69.99%",
          "76.69%",
          "80.92%",
          "",
          "",
          "",
          "",
          "",
          "",
          "",
          "",
          "",
          "",
          "",
          "",
          "",
          "",
          "",
          "",
          "",
          "",
          ""
         ],
         "textfont": {
          "size": 12
         },
         "textposition": "top center",
         "type": "scatter",
         "x": [
          "ARVORE NA REDE",
          "CAUSA NÃO IDENTIFICADA",
          "CONDUTOR PARTIDO",
          "FALHA DE CONEXÃO",
          "OBJETO NA REDE",
          "ANIMAL NO CIRCUITO",
          "DEFEITO EM ISOLADOR",
          "SOBRECARGA",
          "POSTE AVARIADO / ADERNADO",
          "DESLIGAMENTO PROGRAMADO COLETIVO",
          "REDE TRANÇADA",
          "FALHA EM EQUIPAMENTO",
          "TRANSFORMADOR AVARIADO",
          "ELO FUSIVEL INADEQUADO",
          "FALHA EM SUPRIMENTO",
          "RAMAL TRANÇADO",
          "RAMAL PARTIDO",
          "INCENDIO",
          "DEFEITO EM MEDIDOR",
          "FALHA OPERACIONAL",
          "INTERRUPÇÃO EM TEMPO REAL",
          "FALHA CIRCUITO DE ILUMINAÇÃO PÚBLICA",
          "INTERRUPÇÃO COLETIVA POR DEFEITO INTERNO",
          "FURTO",
          "MANOBRA DE URGENCIA",
          "CORTE INDEVIDO"
         ],
         "y": [
          29.066069989153014,
          42.52542280167071,
          53.383811528240635,
          61.96794641818478,
          69.9864605925842,
          76.69374375980807,
          80.91765837986709,
          84.39383292685943,
          87.50869534815851,
          90.0649393084202,
          92.44562061530189,
          94.80758966890549,
          96.73713335334496,
          97.63451649159715,
          98.33813909403638,
          98.73295886064487,
          99.09779679972337,
          99.32619406093926,
          99.51766911665328,
          99.66208479002215,
          99.79778198739353,
          99.88532272559311,
          99.95851958598547,
          99.99012898786219,
          99.9963272948213,
          99.99999999999997
         ],
         "yaxis": "y2"
        }
       ],
       "layout": {
        "height": 700,
        "margin": {
         "b": 180,
         "l": 80,
         "r": 80,
         "t": 80
        },
        "showlegend": false,
        "template": {
         "data": {
          "candlestick": [
           {
            "decreasing": {
             "line": {
              "color": "#000033"
             }
            },
            "increasing": {
             "line": {
              "color": "#000032"
             }
            },
            "type": "candlestick"
           }
          ],
          "contour": [
           {
            "colorscale": [
             [
              0,
              "#000011"
             ],
             [
              0.1111111111111111,
              "#000012"
             ],
             [
              0.2222222222222222,
              "#000013"
             ],
             [
              0.3333333333333333,
              "#000014"
             ],
             [
              0.4444444444444444,
              "#000015"
             ],
             [
              0.5555555555555556,
              "#000016"
             ],
             [
              0.6666666666666666,
              "#000017"
             ],
             [
              0.7777777777777778,
              "#000018"
             ],
             [
              0.8888888888888888,
              "#000019"
             ],
             [
              1,
              "#000020"
             ]
            ],
            "type": "contour"
           }
          ],
          "contourcarpet": [
           {
            "colorscale": [
             [
              0,
              "#000011"
             ],
             [
              0.1111111111111111,
              "#000012"
             ],
             [
              0.2222222222222222,
              "#000013"
             ],
             [
              0.3333333333333333,
              "#000014"
             ],
             [
              0.4444444444444444,
              "#000015"
             ],
             [
              0.5555555555555556,
              "#000016"
             ],
             [
              0.6666666666666666,
              "#000017"
             ],
             [
              0.7777777777777778,
              "#000018"
             ],
             [
              0.8888888888888888,
              "#000019"
             ],
             [
              1,
              "#000020"
             ]
            ],
            "type": "contourcarpet"
           }
          ],
          "heatmap": [
           {
            "colorscale": [
             [
              0,
              "#000011"
             ],
             [
              0.1111111111111111,
              "#000012"
             ],
             [
              0.2222222222222222,
              "#000013"
             ],
             [
              0.3333333333333333,
              "#000014"
             ],
             [
              0.4444444444444444,
              "#000015"
             ],
             [
              0.5555555555555556,
              "#000016"
             ],
             [
              0.6666666666666666,
              "#000017"
             ],
             [
              0.7777777777777778,
              "#000018"
             ],
             [
              0.8888888888888888,
              "#000019"
             ],
             [
              1,
              "#000020"
             ]
            ],
            "type": "heatmap"
           }
          ],
          "histogram2d": [
           {
            "colorscale": [
             [
              0,
              "#000011"
             ],
             [
              0.1111111111111111,
              "#000012"
             ],
             [
              0.2222222222222222,
              "#000013"
             ],
             [
              0.3333333333333333,
              "#000014"
             ],
             [
              0.4444444444444444,
              "#000015"
             ],
             [
              0.5555555555555556,
              "#000016"
             ],
             [
              0.6666666666666666,
              "#000017"
             ],
             [
              0.7777777777777778,
              "#000018"
             ],
             [
              0.8888888888888888,
              "#000019"
             ],
             [
              1,
              "#000020"
             ]
            ],
            "type": "histogram2d"
           }
          ],
          "icicle": [
           {
            "textfont": {
             "color": "white"
            },
            "type": "icicle"
           }
          ],
          "sankey": [
           {
            "textfont": {
             "color": "#000036"
            },
            "type": "sankey"
           }
          ],
          "scatter": [
           {
            "marker": {
             "line": {
              "width": 0
             }
            },
            "type": "scatter"
           }
          ],
          "table": [
           {
            "cells": {
             "fill": {
              "color": "#000038"
             },
             "font": {
              "color": "#000037"
             },
             "line": {
              "color": "#000039"
             }
            },
            "header": {
             "fill": {
              "color": "#000040"
             },
             "font": {
              "color": "#000036"
             },
             "line": {
              "color": "#000039"
             }
            },
            "type": "table"
           }
          ],
          "waterfall": [
           {
            "connector": {
             "line": {
              "color": "#000036",
              "width": 2
             }
            },
            "decreasing": {
             "marker": {
              "color": "#000033"
             }
            },
            "increasing": {
             "marker": {
              "color": "#000032"
             }
            },
            "totals": {
             "marker": {
              "color": "#000034"
             }
            },
            "type": "waterfall"
           }
          ]
         },
         "layout": {
          "coloraxis": {
           "colorscale": [
            [
             0,
             "#000011"
            ],
            [
             0.1111111111111111,
             "#000012"
            ],
            [
             0.2222222222222222,
             "#000013"
            ],
            [
             0.3333333333333333,
             "#000014"
            ],
            [
             0.4444444444444444,
             "#000015"
            ],
            [
             0.5555555555555556,
             "#000016"
            ],
            [
             0.6666666666666666,
             "#000017"
            ],
            [
             0.7777777777777778,
             "#000018"
            ],
            [
             0.8888888888888888,
             "#000019"
            ],
            [
             1,
             "#000020"
            ]
           ]
          },
          "colorscale": {
           "diverging": [
            [
             0,
             "#000021"
            ],
            [
             0.1,
             "#000022"
            ],
            [
             0.2,
             "#000023"
            ],
            [
             0.3,
             "#000024"
            ],
            [
             0.4,
             "#000025"
            ],
            [
             0.5,
             "#000026"
            ],
            [
             0.6,
             "#000027"
            ],
            [
             0.7,
             "#000028"
            ],
            [
             0.8,
             "#000029"
            ],
            [
             0.9,
             "#000030"
            ],
            [
             1,
             "#000031"
            ]
           ],
           "sequential": [
            [
             0,
             "#000011"
            ],
            [
             0.1111111111111111,
             "#000012"
            ],
            [
             0.2222222222222222,
             "#000013"
            ],
            [
             0.3333333333333333,
             "#000014"
            ],
            [
             0.4444444444444444,
             "#000015"
            ],
            [
             0.5555555555555556,
             "#000016"
            ],
            [
             0.6666666666666666,
             "#000017"
            ],
            [
             0.7777777777777778,
             "#000018"
            ],
            [
             0.8888888888888888,
             "#000019"
            ],
            [
             1,
             "#000020"
            ]
           ],
           "sequentialminus": [
            [
             0,
             "#000011"
            ],
            [
             0.1111111111111111,
             "#000012"
            ],
            [
             0.2222222222222222,
             "#000013"
            ],
            [
             0.3333333333333333,
             "#000014"
            ],
            [
             0.4444444444444444,
             "#000015"
            ],
            [
             0.5555555555555556,
             "#000016"
            ],
            [
             0.6666666666666666,
             "#000017"
            ],
            [
             0.7777777777777778,
             "#000018"
            ],
            [
             0.8888888888888888,
             "#000019"
            ],
            [
             1,
             "#000020"
            ]
           ]
          },
          "colorway": [
           "#000001",
           "#000002",
           "#000003",
           "#000004",
           "#000005",
           "#000006",
           "#000007",
           "#000008",
           "#000009",
           "#000010"
          ]
         }
        },
        "title": {
         "font": {
          "size": 18
         },
         "text": "Gráfico de Pareto - DEC por Causa"
        },
        "width": 1100,
        "xaxis": {
         "tickangle": -40,
         "tickfont": {
          "size": 12
         },
         "tickmode": "array",
         "ticktext": [
          "ARVORE NA REDE",
          "CAUSA NÃO IDENTIFICADA",
          "CONDUTOR PARTIDO",
          "FALHA DE CONEXÃO",
          "OBJETO NA REDE",
          "ANIMAL NO CIRCUITO",
          "DEFEITO EM ISOLADOR",
          "SOBRECARGA",
          "POSTE AVARIADO / ADERNADO",
          "DESLIGAMENTO PROGRAMADO COLETIVO",
          "REDE TRANÇADA",
          "FALHA EM EQUIPAMENTO",
          "TRANSFORMADOR AVARIADO",
          "ELO FUSIVEL INADEQUADO",
          "FALHA EM SUPRIMENTO",
          "RAMAL TRANÇADO",
          "RAMAL PARTIDO",
          "INCENDIO",
          "DEFEITO EM MEDIDOR",
          "FALHA OPERACIONAL",
          "INTERRUPÇÃO EM TEMPO REAL",
          "FALHA CIRCUITO DE ILUMINAÇÃO PÚBLICA",
          "INTERRUPÇÃO COLETIVA POR DEFEITO INTERNO",
          "FURTO",
          "MANOBRA DE URGENCIA",
          "CORTE INDEVIDO"
         ],
         "tickvals": [
          "ARVORE NA REDE",
          "CAUSA NÃO IDENTIFICADA",
          "CONDUTOR PARTIDO",
          "FALHA DE CONEXÃO",
          "OBJETO NA REDE",
          "ANIMAL NO CIRCUITO",
          "DEFEITO EM ISOLADOR",
          "SOBRECARGA",
          "POSTE AVARIADO / ADERNADO",
          "DESLIGAMENTO PROGRAMADO COLETIVO",
          "REDE TRANÇADA",
          "FALHA EM EQUIPAMENTO",
          "TRANSFORMADOR AVARIADO",
          "ELO FUSIVEL INADEQUADO",
          "FALHA EM SUPRIMENTO",
          "RAMAL TRANÇADO",
          "RAMAL PARTIDO",
          "INCENDIO",
          "DEFEITO EM MEDIDOR",
          "FALHA OPERACIONAL",
          "INTERRUPÇÃO EM TEMPO REAL",
          "FALHA CIRCUITO DE ILUMINAÇÃO PÚBLICA",
          "INTERRUPÇÃO COLETIVA POR DEFEITO INTERNO",
          "FURTO",
          "MANOBRA DE URGENCIA",
          "CORTE INDEVIDO"
         ],
         "title": {
          "font": {
           "size": 14
          },
          "text": "Causa"
         }
        },
        "yaxis": {
         "gridcolor": "rgba(0,0,0,0)",
         "tickfont": {
          "size": 12
         },
         "title": {
          "font": {
           "size": 14
          },
          "text": "DEC"
         }
        },
        "yaxis2": {
         "gridcolor": "rgba(211, 211, 211, 0.5)",
         "overlaying": "y",
         "range": [
          0,
          110
         ],
         "showgrid": true,
         "side": "right",
         "tickfont": {
          "size": 12
         },
         "title": {
          "font": {
           "size": 14
          },
          "text": "Percentual Acumulado"
         }
        }
       }
      }
     },
     "metadata": {},
     "output_type": "display_data"
    }
   ],
   "source": [
    "import plotly.graph_objects as go\n",
    "\n",
    "# Criar o gráfico de barras para o DEC por causa\n",
    "fig = go.Figure()\n",
    "\n",
    "# Adicionar barras sem rótulos de dados\n",
    "fig.add_trace(go.Bar(\n",
    "    x=df_causa['CAUSA'],\n",
    "    y=df_causa['DEC'],\n",
    "    name='DEC',\n",
    "    marker=dict(color='#00C0F3'),\n",
    "    textposition='none'  # Remove os rótulos de dados das barras\n",
    "))\n",
    "\n",
    "# Adicionar linha de Percentual Acumulado com rótulos condicionais\n",
    "fig.add_trace(go.Scatter(\n",
    "    x=df_causa['CAUSA'],\n",
    "    y=df_causa['PERCENTUAL ACUMULADO'],\n",
    "    name='Percentual Acumulado',\n",
    "    yaxis='y2',\n",
    "    mode='lines+markers+text',\n",
    "    line=dict(color='#FABD0A', width=2),\n",
    "    marker=dict(size=8),  # Tamanho dos marcadores\n",
    "    text=[f'{val:.2f}%' if val <= 81 else '' for val in df_causa['PERCENTUAL ACUMULADO']],  # Adiciona rótulos com porcentagem até 81%\n",
    "    textposition='top center',  # Posiciona os rótulos acima dos pontos\n",
    "    textfont=dict(size=12),  # Ajusta o tamanho da fonte dos rótulos\n",
    "))\n",
    "\n",
    "# Atualizar layout para ajustar espaçamento, tamanho de fonte e largura do gráfico\n",
    "fig.update_layout(\n",
    "    title='Gráfico de Pareto - DEC por Causa',\n",
    "    title_font=dict(size=18),\n",
    "    xaxis=dict(\n",
    "        title='Causa',\n",
    "        title_font=dict(size=14),\n",
    "        tickangle=-40,  # Ajusta o ângulo dos rótulos do eixo X para melhor legibilidade\n",
    "        tickfont=dict(size=12),  # Ajusta o tamanho da fonte dos rótulos do eixo X\n",
    "        tickmode='array',\n",
    "        tickvals=df_causa['CAUSA'],\n",
    "        ticktext=df_causa['CAUSA'],  # Exibe o texto completo dos rótulos\n",
    "    ),\n",
    "    yaxis=dict(\n",
    "        title='DEC',\n",
    "        title_font=dict(size=14),\n",
    "        tickfont=dict(size=12),  # Ajusta o tamanho da fonte dos rótulos do eixo Y\n",
    "        gridcolor='rgba(0,0,0,0)'  # Remove as grades verticais\n",
    "    ),\n",
    "    yaxis2=dict(\n",
    "        title='Percentual Acumulado',\n",
    "        overlaying='y',\n",
    "        side='right',\n",
    "        range=[0, 110],  # Aumenta a faixa do eixo Y2 para até 110%\n",
    "        title_font=dict(size=14),\n",
    "        tickfont=dict(size=12),  # Ajusta o tamanho da fonte dos rótulos do eixo Y2\n",
    "        showgrid=True,  # Exibe a grade horizontal para o eixo Y2\n",
    "        gridcolor='rgba(211, 211, 211, 0.5)'  # Define a cor e a opacidade da grade horizontal\n",
    "    ),\n",
    "    width=1100,  # Aumenta a largura do gráfico para melhor visualização\n",
    "    height=700,  # Ajusta a altura do gráfico para permitir mais espaço na parte inferior\n",
    "    margin=dict(l=80, r=80, t=80, b=180),  # Ajusta as margens do gráfico para dar mais espaço na parte inferior\n",
    "    showlegend=False\n",
    ")\n",
    "\n",
    "# Exibir o gráfico\n",
    "fig.show()\n"
   ]
  },
  {
   "cell_type": "code",
   "execution_count": 77,
   "metadata": {},
   "outputs": [
    {
     "data": {
      "text/html": [
       "<div>\n",
       "<style scoped>\n",
       "    .dataframe tbody tr th:only-of-type {\n",
       "        vertical-align: middle;\n",
       "    }\n",
       "\n",
       "    .dataframe tbody tr th {\n",
       "        vertical-align: top;\n",
       "    }\n",
       "\n",
       "    .dataframe thead th {\n",
       "        text-align: right;\n",
       "    }\n",
       "</style>\n",
       "<table border=\"1\" class=\"dataframe\">\n",
       "  <thead>\n",
       "    <tr style=\"text-align: right;\">\n",
       "      <th></th>\n",
       "      <th>OCORRENCIA_ID</th>\n",
       "      <th>DATA</th>\n",
       "      <th>DIA</th>\n",
       "      <th>MES</th>\n",
       "      <th>ANO</th>\n",
       "      <th>DATA_INICIO</th>\n",
       "      <th>TEMPO</th>\n",
       "      <th>SE_AL</th>\n",
       "      <th>OCO_INTERRUPCAO</th>\n",
       "      <th>CAUSA</th>\n",
       "      <th>DEFEITO</th>\n",
       "      <th>OCO_NUMERO</th>\n",
       "      <th>SE</th>\n",
       "      <th>AL</th>\n",
       "      <th>EQUIPAMENTO</th>\n",
       "      <th>TIPO</th>\n",
       "      <th>ABRANGENCIA</th>\n",
       "      <th>NR</th>\n",
       "      <th>CLI_INT</th>\n",
       "      <th>CHI</th>\n",
       "      <th>FEC</th>\n",
       "      <th>DEC</th>\n",
       "      <th>REGIONAL</th>\n",
       "      <th>CONJUNTO</th>\n",
       "      <th>MÊS01</th>\n",
       "    </tr>\n",
       "  </thead>\n",
       "  <tbody>\n",
       "    <tr>\n",
       "      <th>0</th>\n",
       "      <td>52921651.0</td>\n",
       "      <td>2024-07-13</td>\n",
       "      <td>13.0</td>\n",
       "      <td>7.0</td>\n",
       "      <td>2024.0</td>\n",
       "      <td>2024-07-13 21:23:42</td>\n",
       "      <td>0.544722</td>\n",
       "      <td>CPM-01C1</td>\n",
       "      <td>S</td>\n",
       "      <td>FALHA DE CONEXÃO</td>\n",
       "      <td>JUMPER BT</td>\n",
       "      <td>127109.0</td>\n",
       "      <td>CPM</td>\n",
       "      <td>01C1</td>\n",
       "      <td>NaN</td>\n",
       "      <td>CR</td>\n",
       "      <td>Cliente</td>\n",
       "      <td>1.0</td>\n",
       "      <td>1.0</td>\n",
       "      <td>1.0</td>\n",
       "      <td>6.791508e-07</td>\n",
       "      <td>3.699485e-07</td>\n",
       "      <td>METROPOLITANA</td>\n",
       "      <td>CAMPO MAIOR</td>\n",
       "      <td>7.0</td>\n",
       "    </tr>\n",
       "    <tr>\n",
       "      <th>1</th>\n",
       "      <td>52921650.0</td>\n",
       "      <td>2024-07-13</td>\n",
       "      <td>13.0</td>\n",
       "      <td>7.0</td>\n",
       "      <td>2024.0</td>\n",
       "      <td>2024-07-13 19:26:33</td>\n",
       "      <td>0.519722</td>\n",
       "      <td>CPM-01C1</td>\n",
       "      <td>S</td>\n",
       "      <td>FALHA DE CONEXÃO</td>\n",
       "      <td>JUMPER BT</td>\n",
       "      <td>127108.0</td>\n",
       "      <td>CPM</td>\n",
       "      <td>01C1</td>\n",
       "      <td>NaN</td>\n",
       "      <td>CR</td>\n",
       "      <td>Cliente</td>\n",
       "      <td>1.0</td>\n",
       "      <td>1.0</td>\n",
       "      <td>1.0</td>\n",
       "      <td>6.791508e-07</td>\n",
       "      <td>3.529698e-07</td>\n",
       "      <td>METROPOLITANA</td>\n",
       "      <td>CAMPO MAIOR</td>\n",
       "      <td>7.0</td>\n",
       "    </tr>\n",
       "    <tr>\n",
       "      <th>2</th>\n",
       "      <td>52921649.0</td>\n",
       "      <td>2024-07-13</td>\n",
       "      <td>13.0</td>\n",
       "      <td>7.0</td>\n",
       "      <td>2024.0</td>\n",
       "      <td>2024-07-13 20:45:21</td>\n",
       "      <td>0.575833</td>\n",
       "      <td>CPM-01C1</td>\n",
       "      <td>S</td>\n",
       "      <td>FALHA DE CONEXÃO</td>\n",
       "      <td>JUMPER BT</td>\n",
       "      <td>127107.0</td>\n",
       "      <td>CPM</td>\n",
       "      <td>01C1</td>\n",
       "      <td>NaN</td>\n",
       "      <td>CR</td>\n",
       "      <td>Cliente</td>\n",
       "      <td>1.0</td>\n",
       "      <td>1.0</td>\n",
       "      <td>1.0</td>\n",
       "      <td>6.791508e-07</td>\n",
       "      <td>3.910777e-07</td>\n",
       "      <td>METROPOLITANA</td>\n",
       "      <td>CAMPO MAIOR</td>\n",
       "      <td>7.0</td>\n",
       "    </tr>\n",
       "    <tr>\n",
       "      <th>3</th>\n",
       "      <td>52921648.0</td>\n",
       "      <td>2024-07-13</td>\n",
       "      <td>13.0</td>\n",
       "      <td>7.0</td>\n",
       "      <td>2024.0</td>\n",
       "      <td>2024-07-13 19:25:32</td>\n",
       "      <td>0.572222</td>\n",
       "      <td>CPM-01C1</td>\n",
       "      <td>S</td>\n",
       "      <td>FALHA DE CONEXÃO</td>\n",
       "      <td>JUMPER BT</td>\n",
       "      <td>127106.0</td>\n",
       "      <td>CPM</td>\n",
       "      <td>01C1</td>\n",
       "      <td>NaN</td>\n",
       "      <td>CR</td>\n",
       "      <td>Cliente</td>\n",
       "      <td>1.0</td>\n",
       "      <td>1.0</td>\n",
       "      <td>1.0</td>\n",
       "      <td>6.791508e-07</td>\n",
       "      <td>3.886252e-07</td>\n",
       "      <td>METROPOLITANA</td>\n",
       "      <td>CAMPO MAIOR</td>\n",
       "      <td>7.0</td>\n",
       "    </tr>\n",
       "    <tr>\n",
       "      <th>4</th>\n",
       "      <td>52921424.0</td>\n",
       "      <td>2024-07-06</td>\n",
       "      <td>6.0</td>\n",
       "      <td>7.0</td>\n",
       "      <td>2024.0</td>\n",
       "      <td>2024-07-06 11:06:53</td>\n",
       "      <td>0.513333</td>\n",
       "      <td>CMP-01C2</td>\n",
       "      <td>S</td>\n",
       "      <td>FALHA DE CONEXÃO</td>\n",
       "      <td>CONECTOR</td>\n",
       "      <td>126882.0</td>\n",
       "      <td>CMP</td>\n",
       "      <td>01C2</td>\n",
       "      <td>NaN</td>\n",
       "      <td>CR</td>\n",
       "      <td>Cliente</td>\n",
       "      <td>1.0</td>\n",
       "      <td>1.0</td>\n",
       "      <td>1.0</td>\n",
       "      <td>6.791508e-07</td>\n",
       "      <td>3.486308e-07</td>\n",
       "      <td>NORTE</td>\n",
       "      <td>CAMURUPIM</td>\n",
       "      <td>7.0</td>\n",
       "    </tr>\n",
       "  </tbody>\n",
       "</table>\n",
       "</div>"
      ],
      "text/plain": [
       "   OCORRENCIA_ID       DATA   DIA  MES     ANO         DATA_INICIO     TEMPO  \\\n",
       "0     52921651.0 2024-07-13  13.0  7.0  2024.0 2024-07-13 21:23:42  0.544722   \n",
       "1     52921650.0 2024-07-13  13.0  7.0  2024.0 2024-07-13 19:26:33  0.519722   \n",
       "2     52921649.0 2024-07-13  13.0  7.0  2024.0 2024-07-13 20:45:21  0.575833   \n",
       "3     52921648.0 2024-07-13  13.0  7.0  2024.0 2024-07-13 19:25:32  0.572222   \n",
       "4     52921424.0 2024-07-06   6.0  7.0  2024.0 2024-07-06 11:06:53  0.513333   \n",
       "\n",
       "      SE_AL OCO_INTERRUPCAO             CAUSA    DEFEITO  OCO_NUMERO   SE  \\\n",
       "0  CPM-01C1               S  FALHA DE CONEXÃO  JUMPER BT    127109.0  CPM   \n",
       "1  CPM-01C1               S  FALHA DE CONEXÃO  JUMPER BT    127108.0  CPM   \n",
       "2  CPM-01C1               S  FALHA DE CONEXÃO  JUMPER BT    127107.0  CPM   \n",
       "3  CPM-01C1               S  FALHA DE CONEXÃO  JUMPER BT    127106.0  CPM   \n",
       "4  CMP-01C2               S  FALHA DE CONEXÃO   CONECTOR    126882.0  CMP   \n",
       "\n",
       "     AL EQUIPAMENTO TIPO ABRANGENCIA   NR  CLI_INT  CHI           FEC  \\\n",
       "0  01C1         NaN   CR     Cliente  1.0      1.0  1.0  6.791508e-07   \n",
       "1  01C1         NaN   CR     Cliente  1.0      1.0  1.0  6.791508e-07   \n",
       "2  01C1         NaN   CR     Cliente  1.0      1.0  1.0  6.791508e-07   \n",
       "3  01C1         NaN   CR     Cliente  1.0      1.0  1.0  6.791508e-07   \n",
       "4  01C2         NaN   CR     Cliente  1.0      1.0  1.0  6.791508e-07   \n",
       "\n",
       "            DEC       REGIONAL     CONJUNTO  MÊS01  \n",
       "0  3.699485e-07  METROPOLITANA  CAMPO MAIOR    7.0  \n",
       "1  3.529698e-07  METROPOLITANA  CAMPO MAIOR    7.0  \n",
       "2  3.910777e-07  METROPOLITANA  CAMPO MAIOR    7.0  \n",
       "3  3.886252e-07  METROPOLITANA  CAMPO MAIOR    7.0  \n",
       "4  3.486308e-07          NORTE    CAMURUPIM    7.0  "
      ]
     },
     "execution_count": 77,
     "metadata": {},
     "output_type": "execute_result"
    }
   ],
   "source": [
    "df.head()"
   ]
  },
  {
   "cell_type": "code",
   "execution_count": 98,
   "metadata": {},
   "outputs": [],
   "source": [
    "df.EQUIPAMENTO = df.EQUIPAMENTO.astype(str)"
   ]
  },
  {
   "cell_type": "code",
   "execution_count": 143,
   "metadata": {},
   "outputs": [
    {
     "name": "stderr",
     "output_type": "stream",
     "text": [
      "C:\\Users\\Victor\\AppData\\Local\\Temp\\ipykernel_9000\\3262054663.py:6: FutureWarning:\n",
      "\n",
      "A value is trying to be set on a copy of a DataFrame or Series through chained assignment using an inplace method.\n",
      "The behavior will change in pandas 3.0. This inplace method will never work because the intermediate object on which we are setting values always behaves as a copy.\n",
      "\n",
      "For example, when doing 'df[col].method(value, inplace=True)', try using 'df.method({col: value}, inplace=True)' or df[col] = df[col].method(value) instead, to perform the operation inplace on the original object.\n",
      "\n",
      "\n",
      "\n"
     ]
    },
    {
     "data": {
      "text/html": [
       "<div>\n",
       "<style scoped>\n",
       "    .dataframe tbody tr th:only-of-type {\n",
       "        vertical-align: middle;\n",
       "    }\n",
       "\n",
       "    .dataframe tbody tr th {\n",
       "        vertical-align: top;\n",
       "    }\n",
       "\n",
       "    .dataframe thead th {\n",
       "        text-align: right;\n",
       "    }\n",
       "</style>\n",
       "<table border=\"1\" class=\"dataframe\">\n",
       "  <thead>\n",
       "    <tr style=\"text-align: right;\">\n",
       "      <th></th>\n",
       "      <th>EQUIPAMENTO</th>\n",
       "      <th>DEC</th>\n",
       "    </tr>\n",
       "  </thead>\n",
       "  <tbody>\n",
       "    <tr>\n",
       "      <th>1</th>\n",
       "      <td>PRI01Y1</td>\n",
       "      <td>0.1217</td>\n",
       "    </tr>\n",
       "    <tr>\n",
       "      <th>2</th>\n",
       "      <td>1555235</td>\n",
       "      <td>0.0997</td>\n",
       "    </tr>\n",
       "    <tr>\n",
       "      <th>3</th>\n",
       "      <td>VAL01C1</td>\n",
       "      <td>0.0785</td>\n",
       "    </tr>\n",
       "    <tr>\n",
       "      <th>4</th>\n",
       "      <td>MTO01C3</td>\n",
       "      <td>0.0655</td>\n",
       "    </tr>\n",
       "    <tr>\n",
       "      <th>5</th>\n",
       "      <td>SPP09F5</td>\n",
       "      <td>0.0583</td>\n",
       "    </tr>\n",
       "    <tr>\n",
       "      <th>6</th>\n",
       "      <td>1751964</td>\n",
       "      <td>0.0534</td>\n",
       "    </tr>\n",
       "    <tr>\n",
       "      <th>7</th>\n",
       "      <td>1602012</td>\n",
       "      <td>0.0494</td>\n",
       "    </tr>\n",
       "    <tr>\n",
       "      <th>8</th>\n",
       "      <td>1631942</td>\n",
       "      <td>0.0490</td>\n",
       "    </tr>\n",
       "    <tr>\n",
       "      <th>9</th>\n",
       "      <td>1567160</td>\n",
       "      <td>0.0485</td>\n",
       "    </tr>\n",
       "    <tr>\n",
       "      <th>10</th>\n",
       "      <td>1736728</td>\n",
       "      <td>0.0485</td>\n",
       "    </tr>\n",
       "    <tr>\n",
       "      <th>11</th>\n",
       "      <td>1259091</td>\n",
       "      <td>0.0480</td>\n",
       "    </tr>\n",
       "    <tr>\n",
       "      <th>12</th>\n",
       "      <td>1397656</td>\n",
       "      <td>0.0469</td>\n",
       "    </tr>\n",
       "    <tr>\n",
       "      <th>13</th>\n",
       "      <td>VAL01C2</td>\n",
       "      <td>0.0468</td>\n",
       "    </tr>\n",
       "    <tr>\n",
       "      <th>14</th>\n",
       "      <td>1393065</td>\n",
       "      <td>0.0457</td>\n",
       "    </tr>\n",
       "    <tr>\n",
       "      <th>15</th>\n",
       "      <td>CTO09F3</td>\n",
       "      <td>0.0451</td>\n",
       "    </tr>\n",
       "    <tr>\n",
       "      <th>16</th>\n",
       "      <td>267554</td>\n",
       "      <td>0.0434</td>\n",
       "    </tr>\n",
       "    <tr>\n",
       "      <th>17</th>\n",
       "      <td>BAS01C4</td>\n",
       "      <td>0.0418</td>\n",
       "    </tr>\n",
       "    <tr>\n",
       "      <th>18</th>\n",
       "      <td>CMP01C3</td>\n",
       "      <td>0.0403</td>\n",
       "    </tr>\n",
       "    <tr>\n",
       "      <th>19</th>\n",
       "      <td>1721747</td>\n",
       "      <td>0.0388</td>\n",
       "    </tr>\n",
       "    <tr>\n",
       "      <th>20</th>\n",
       "      <td>148822</td>\n",
       "      <td>0.0370</td>\n",
       "    </tr>\n",
       "  </tbody>\n",
       "</table>\n",
       "</div>"
      ],
      "text/plain": [
       "   EQUIPAMENTO     DEC\n",
       "1      PRI01Y1  0.1217\n",
       "2      1555235  0.0997\n",
       "3      VAL01C1  0.0785\n",
       "4      MTO01C3  0.0655\n",
       "5      SPP09F5  0.0583\n",
       "6      1751964  0.0534\n",
       "7      1602012  0.0494\n",
       "8      1631942  0.0490\n",
       "9      1567160  0.0485\n",
       "10     1736728  0.0485\n",
       "11     1259091  0.0480\n",
       "12     1397656  0.0469\n",
       "13     VAL01C2  0.0468\n",
       "14     1393065  0.0457\n",
       "15     CTO09F3  0.0451\n",
       "16      267554  0.0434\n",
       "17     BAS01C4  0.0418\n",
       "18     CMP01C3  0.0403\n",
       "19     1721747  0.0388\n",
       "20      148822  0.0370"
      ]
     },
     "execution_count": 143,
     "metadata": {},
     "output_type": "execute_result"
    }
   ],
   "source": [
    "# Agrupar por EQUIPAMENTO e somar os valores de DEC\n",
    "df_equipamentos = df.groupby('EQUIPAMENTO')[['DEC']].sum().sort_values(by='DEC', ascending=False)\n",
    "df_equipamentos.reset_index(inplace=True)\n",
    "\n",
    "# Substituir a string 'nan' por NaN\n",
    "df_equipamentos['EQUIPAMENTO'].replace('nan', pd.NA, inplace=True)\n",
    "\n",
    "# Remover linhas com NaN na coluna 'EQUIPAMENTO'\n",
    "df_equipamentos = df_equipamentos.dropna(subset=['EQUIPAMENTO'])\n",
    "df_equipamentos['DEC'] = df_equipamentos['DEC'].round(4)\n",
    "# Garantir que a coluna 'EQUIPAMENTO' seja tratada como uma categoria\n",
    "df_equipamentos['EQUIPAMENTO'] = df_equipamentos['EQUIPAMENTO'].astype('category')\n",
    "df_equipamentos.head(20)\n"
   ]
  },
  {
   "cell_type": "code",
   "execution_count": 144,
   "metadata": {},
   "outputs": [
    {
     "data": {
      "application/vnd.plotly.v1+json": {
       "config": {
        "plotlyServerURL": "https://plot.ly"
       },
       "data": [
        {
         "alignmentgroup": "True",
         "hovertemplate": "Nome do Equipamento=%{x}<br>Valor do DEC=%{text}<extra></extra>",
         "legendgroup": "",
         "marker": {
          "color": "#2F2E79",
          "pattern": {
           "shape": ""
          }
         },
         "name": "",
         "offsetgroup": "",
         "orientation": "v",
         "showlegend": false,
         "text": [
          0.1217,
          0.0997,
          0.0785,
          0.0655,
          0.0583,
          0.0534,
          0.0494,
          0.049,
          0.0485,
          0.0485,
          0.048,
          0.0469,
          0.0468,
          0.0457,
          0.0451,
          0.0434,
          0.0418,
          0.0403,
          0.0388,
          0.037
         ],
         "textangle": 0,
         "textfont": {
          "color": "white",
          "size": 12
         },
         "textposition": "inside",
         "texttemplate": "%{text:.3f}",
         "type": "bar",
         "x": [
          "PRI01Y1",
          "1555235",
          "VAL01C1",
          "MTO01C3",
          "SPP09F5",
          "1751964",
          "1602012",
          "1631942",
          "1567160",
          "1736728",
          "1259091",
          "1397656",
          "VAL01C2",
          "1393065",
          "CTO09F3",
          "267554",
          "BAS01C4",
          "CMP01C3",
          "1721747",
          "148822"
         ],
         "xaxis": "x",
         "y": [
          0.1217,
          0.0997,
          0.0785,
          0.0655,
          0.0583,
          0.0534,
          0.0494,
          0.049,
          0.0485,
          0.0485,
          0.048,
          0.0469,
          0.0468,
          0.0457,
          0.0451,
          0.0434,
          0.0418,
          0.0403,
          0.0388,
          0.037
         ],
         "yaxis": "y"
        }
       ],
       "layout": {
        "bargap": 0.2,
        "barmode": "relative",
        "legend": {
         "tracegroupgap": 0
        },
        "template": {
         "data": {
          "candlestick": [
           {
            "decreasing": {
             "line": {
              "color": "#000033"
             }
            },
            "increasing": {
             "line": {
              "color": "#000032"
             }
            },
            "type": "candlestick"
           }
          ],
          "contour": [
           {
            "colorscale": [
             [
              0,
              "#000011"
             ],
             [
              0.1111111111111111,
              "#000012"
             ],
             [
              0.2222222222222222,
              "#000013"
             ],
             [
              0.3333333333333333,
              "#000014"
             ],
             [
              0.4444444444444444,
              "#000015"
             ],
             [
              0.5555555555555556,
              "#000016"
             ],
             [
              0.6666666666666666,
              "#000017"
             ],
             [
              0.7777777777777778,
              "#000018"
             ],
             [
              0.8888888888888888,
              "#000019"
             ],
             [
              1,
              "#000020"
             ]
            ],
            "type": "contour"
           }
          ],
          "contourcarpet": [
           {
            "colorscale": [
             [
              0,
              "#000011"
             ],
             [
              0.1111111111111111,
              "#000012"
             ],
             [
              0.2222222222222222,
              "#000013"
             ],
             [
              0.3333333333333333,
              "#000014"
             ],
             [
              0.4444444444444444,
              "#000015"
             ],
             [
              0.5555555555555556,
              "#000016"
             ],
             [
              0.6666666666666666,
              "#000017"
             ],
             [
              0.7777777777777778,
              "#000018"
             ],
             [
              0.8888888888888888,
              "#000019"
             ],
             [
              1,
              "#000020"
             ]
            ],
            "type": "contourcarpet"
           }
          ],
          "heatmap": [
           {
            "colorscale": [
             [
              0,
              "#000011"
             ],
             [
              0.1111111111111111,
              "#000012"
             ],
             [
              0.2222222222222222,
              "#000013"
             ],
             [
              0.3333333333333333,
              "#000014"
             ],
             [
              0.4444444444444444,
              "#000015"
             ],
             [
              0.5555555555555556,
              "#000016"
             ],
             [
              0.6666666666666666,
              "#000017"
             ],
             [
              0.7777777777777778,
              "#000018"
             ],
             [
              0.8888888888888888,
              "#000019"
             ],
             [
              1,
              "#000020"
             ]
            ],
            "type": "heatmap"
           }
          ],
          "histogram2d": [
           {
            "colorscale": [
             [
              0,
              "#000011"
             ],
             [
              0.1111111111111111,
              "#000012"
             ],
             [
              0.2222222222222222,
              "#000013"
             ],
             [
              0.3333333333333333,
              "#000014"
             ],
             [
              0.4444444444444444,
              "#000015"
             ],
             [
              0.5555555555555556,
              "#000016"
             ],
             [
              0.6666666666666666,
              "#000017"
             ],
             [
              0.7777777777777778,
              "#000018"
             ],
             [
              0.8888888888888888,
              "#000019"
             ],
             [
              1,
              "#000020"
             ]
            ],
            "type": "histogram2d"
           }
          ],
          "icicle": [
           {
            "textfont": {
             "color": "white"
            },
            "type": "icicle"
           }
          ],
          "sankey": [
           {
            "textfont": {
             "color": "#000036"
            },
            "type": "sankey"
           }
          ],
          "scatter": [
           {
            "marker": {
             "line": {
              "width": 0
             }
            },
            "type": "scatter"
           }
          ],
          "table": [
           {
            "cells": {
             "fill": {
              "color": "#000038"
             },
             "font": {
              "color": "#000037"
             },
             "line": {
              "color": "#000039"
             }
            },
            "header": {
             "fill": {
              "color": "#000040"
             },
             "font": {
              "color": "#000036"
             },
             "line": {
              "color": "#000039"
             }
            },
            "type": "table"
           }
          ],
          "waterfall": [
           {
            "connector": {
             "line": {
              "color": "#000036",
              "width": 2
             }
            },
            "decreasing": {
             "marker": {
              "color": "#000033"
             }
            },
            "increasing": {
             "marker": {
              "color": "#000032"
             }
            },
            "totals": {
             "marker": {
              "color": "#000034"
             }
            },
            "type": "waterfall"
           }
          ]
         },
         "layout": {
          "coloraxis": {
           "colorscale": [
            [
             0,
             "#000011"
            ],
            [
             0.1111111111111111,
             "#000012"
            ],
            [
             0.2222222222222222,
             "#000013"
            ],
            [
             0.3333333333333333,
             "#000014"
            ],
            [
             0.4444444444444444,
             "#000015"
            ],
            [
             0.5555555555555556,
             "#000016"
            ],
            [
             0.6666666666666666,
             "#000017"
            ],
            [
             0.7777777777777778,
             "#000018"
            ],
            [
             0.8888888888888888,
             "#000019"
            ],
            [
             1,
             "#000020"
            ]
           ]
          },
          "colorscale": {
           "diverging": [
            [
             0,
             "#000021"
            ],
            [
             0.1,
             "#000022"
            ],
            [
             0.2,
             "#000023"
            ],
            [
             0.3,
             "#000024"
            ],
            [
             0.4,
             "#000025"
            ],
            [
             0.5,
             "#000026"
            ],
            [
             0.6,
             "#000027"
            ],
            [
             0.7,
             "#000028"
            ],
            [
             0.8,
             "#000029"
            ],
            [
             0.9,
             "#000030"
            ],
            [
             1,
             "#000031"
            ]
           ],
           "sequential": [
            [
             0,
             "#000011"
            ],
            [
             0.1111111111111111,
             "#000012"
            ],
            [
             0.2222222222222222,
             "#000013"
            ],
            [
             0.3333333333333333,
             "#000014"
            ],
            [
             0.4444444444444444,
             "#000015"
            ],
            [
             0.5555555555555556,
             "#000016"
            ],
            [
             0.6666666666666666,
             "#000017"
            ],
            [
             0.7777777777777778,
             "#000018"
            ],
            [
             0.8888888888888888,
             "#000019"
            ],
            [
             1,
             "#000020"
            ]
           ],
           "sequentialminus": [
            [
             0,
             "#000011"
            ],
            [
             0.1111111111111111,
             "#000012"
            ],
            [
             0.2222222222222222,
             "#000013"
            ],
            [
             0.3333333333333333,
             "#000014"
            ],
            [
             0.4444444444444444,
             "#000015"
            ],
            [
             0.5555555555555556,
             "#000016"
            ],
            [
             0.6666666666666666,
             "#000017"
            ],
            [
             0.7777777777777778,
             "#000018"
            ],
            [
             0.8888888888888888,
             "#000019"
            ],
            [
             1,
             "#000020"
            ]
           ]
          },
          "colorway": [
           "#000001",
           "#000002",
           "#000003",
           "#000004",
           "#000005",
           "#000006",
           "#000007",
           "#000008",
           "#000009",
           "#000010"
          ]
         }
        },
        "title": {
         "text": "Valores de DEC por Equipamento"
        },
        "xaxis": {
         "anchor": "y",
         "domain": [
          0,
          1
         ],
         "tickangle": -45,
         "title": {
          "text": "Nome do Equipamento"
         },
         "type": "category"
        },
        "yaxis": {
         "anchor": "x",
         "domain": [
          0,
          1
         ],
         "range": [
          0,
          0.15821000000000002
         ],
         "title": {
          "text": "Valor do DEC"
         }
        }
       }
      }
     },
     "metadata": {},
     "output_type": "display_data"
    }
   ],
   "source": [
    "# Garanta que a coluna 'EQUIPAMENTO' seja tratada como string\n",
    "df_equipamentos['EQUIPAMENTO'] = df_equipamentos['EQUIPAMENTO'].astype(str)\n",
    "\n",
    "# Garanta que a coluna 'EQUIPAMENTO' seja tratada como uma categoria\n",
    "df_equipamentos['EQUIPAMENTO'] = pd.Categorical(df_equipamentos['EQUIPAMENTO'], categories=df_equipamentos['EQUIPAMENTO'].unique())\n",
    "\n",
    "# Encontre o valor máximo de DEC\n",
    "max_dec = df_equipamentos['DEC'].max()\n",
    "\n",
    "# Crie o gráfico de barras com rótulos de dados\n",
    "fig = px.bar(df_equipamentos.head(20), x='EQUIPAMENTO', y='DEC', \n",
    "             title='Valores de DEC por Equipamento',\n",
    "             labels={'EQUIPAMENTO': 'Nome do Equipamento', 'DEC': 'Valor do DEC'},\n",
    "             text='DEC',  # Adiciona os rótulos de dados\n",
    "             color_discrete_sequence=['#2F2E79'])  # Define uma cor uniforme para todas as barras\n",
    "\n",
    "# Ajuste o layout do gráfico\n",
    "fig.update_layout(\n",
    "    xaxis_title='Nome do Equipamento',\n",
    "    yaxis_title='Valor do DEC',\n",
    "    xaxis_tickangle=-45,  # Inclina os rótulos do eixo x para melhor leitura\n",
    "    yaxis=dict(range=[0, max_dec * 1.3]),  # Define o intervalo do eixo y\n",
    "    xaxis_type='category',  # Força o eixo x a ser categórico\n",
    "    bargap=0.2  # Ajusta a largura das barras (reduza o valor para barras mais largas)\n",
    ")\n",
    "\n",
    "# Ajuste a aparência dos rótulos de dados\n",
    "fig.update_traces(\n",
    "    texttemplate='%{text:.3f}',  # Ajusta a precisão dos rótulos\n",
    "    textposition='inside',  # Coloca os rótulos dentro das barras\n",
    "    textfont=dict(color='white', size=12),  # Define a cor dos rótulos como branca e aumenta o tamanho da fonte\n",
    "    textangle=0  # Define a rotação dos rótulos para horizontal\n",
    ")\n",
    "\n",
    "fig.show()"
   ]
  },
  {
   "cell_type": "code",
   "execution_count": 145,
   "metadata": {},
   "outputs": [
    {
     "data": {
      "application/vnd.plotly.v1+json": {
       "config": {
        "plotlyServerURL": "https://plot.ly"
       },
       "data": [
        {
         "alignmentgroup": "True",
         "hovertemplate": "Valor do DEC=%{text}<br>Nome do Equipamento=%{y}<extra></extra>",
         "legendgroup": "",
         "marker": {
          "color": "#2F2E79",
          "pattern": {
           "shape": ""
          }
         },
         "name": "",
         "offsetgroup": "",
         "orientation": "h",
         "showlegend": false,
         "text": [
          0.037,
          0.0388,
          0.0403,
          0.0418,
          0.0434,
          0.0451,
          0.0457,
          0.0468,
          0.0469,
          0.048,
          0.0485,
          0.0485,
          0.049,
          0.0494,
          0.0534,
          0.0583,
          0.0655,
          0.0785,
          0.0997,
          0.1217
         ],
         "textangle": 0,
         "textfont": {
          "color": "white",
          "size": 12
         },
         "textposition": "inside",
         "texttemplate": "%{text:.3f}",
         "type": "bar",
         "x": [
          0.037,
          0.0388,
          0.0403,
          0.0418,
          0.0434,
          0.0451,
          0.0457,
          0.0468,
          0.0469,
          0.048,
          0.0485,
          0.0485,
          0.049,
          0.0494,
          0.0534,
          0.0583,
          0.0655,
          0.0785,
          0.0997,
          0.1217
         ],
         "xaxis": "x",
         "y": [
          "148822",
          "1721747",
          "CMP01C3",
          "BAS01C4",
          "267554",
          "CTO09F3",
          "1393065",
          "VAL01C2",
          "1397656",
          "1259091",
          "1736728",
          "1567160",
          "1631942",
          "1602012",
          "1751964",
          "SPP09F5",
          "MTO01C3",
          "VAL01C1",
          "1555235",
          "PRI01Y1"
         ],
         "yaxis": "y"
        }
       ],
       "layout": {
        "bargap": 0.1,
        "barmode": "relative",
        "height": 800,
        "legend": {
         "tracegroupgap": 0
        },
        "template": {
         "data": {
          "candlestick": [
           {
            "decreasing": {
             "line": {
              "color": "#000033"
             }
            },
            "increasing": {
             "line": {
              "color": "#000032"
             }
            },
            "type": "candlestick"
           }
          ],
          "contour": [
           {
            "colorscale": [
             [
              0,
              "#000011"
             ],
             [
              0.1111111111111111,
              "#000012"
             ],
             [
              0.2222222222222222,
              "#000013"
             ],
             [
              0.3333333333333333,
              "#000014"
             ],
             [
              0.4444444444444444,
              "#000015"
             ],
             [
              0.5555555555555556,
              "#000016"
             ],
             [
              0.6666666666666666,
              "#000017"
             ],
             [
              0.7777777777777778,
              "#000018"
             ],
             [
              0.8888888888888888,
              "#000019"
             ],
             [
              1,
              "#000020"
             ]
            ],
            "type": "contour"
           }
          ],
          "contourcarpet": [
           {
            "colorscale": [
             [
              0,
              "#000011"
             ],
             [
              0.1111111111111111,
              "#000012"
             ],
             [
              0.2222222222222222,
              "#000013"
             ],
             [
              0.3333333333333333,
              "#000014"
             ],
             [
              0.4444444444444444,
              "#000015"
             ],
             [
              0.5555555555555556,
              "#000016"
             ],
             [
              0.6666666666666666,
              "#000017"
             ],
             [
              0.7777777777777778,
              "#000018"
             ],
             [
              0.8888888888888888,
              "#000019"
             ],
             [
              1,
              "#000020"
             ]
            ],
            "type": "contourcarpet"
           }
          ],
          "heatmap": [
           {
            "colorscale": [
             [
              0,
              "#000011"
             ],
             [
              0.1111111111111111,
              "#000012"
             ],
             [
              0.2222222222222222,
              "#000013"
             ],
             [
              0.3333333333333333,
              "#000014"
             ],
             [
              0.4444444444444444,
              "#000015"
             ],
             [
              0.5555555555555556,
              "#000016"
             ],
             [
              0.6666666666666666,
              "#000017"
             ],
             [
              0.7777777777777778,
              "#000018"
             ],
             [
              0.8888888888888888,
              "#000019"
             ],
             [
              1,
              "#000020"
             ]
            ],
            "type": "heatmap"
           }
          ],
          "histogram2d": [
           {
            "colorscale": [
             [
              0,
              "#000011"
             ],
             [
              0.1111111111111111,
              "#000012"
             ],
             [
              0.2222222222222222,
              "#000013"
             ],
             [
              0.3333333333333333,
              "#000014"
             ],
             [
              0.4444444444444444,
              "#000015"
             ],
             [
              0.5555555555555556,
              "#000016"
             ],
             [
              0.6666666666666666,
              "#000017"
             ],
             [
              0.7777777777777778,
              "#000018"
             ],
             [
              0.8888888888888888,
              "#000019"
             ],
             [
              1,
              "#000020"
             ]
            ],
            "type": "histogram2d"
           }
          ],
          "icicle": [
           {
            "textfont": {
             "color": "white"
            },
            "type": "icicle"
           }
          ],
          "sankey": [
           {
            "textfont": {
             "color": "#000036"
            },
            "type": "sankey"
           }
          ],
          "scatter": [
           {
            "marker": {
             "line": {
              "width": 0
             }
            },
            "type": "scatter"
           }
          ],
          "table": [
           {
            "cells": {
             "fill": {
              "color": "#000038"
             },
             "font": {
              "color": "#000037"
             },
             "line": {
              "color": "#000039"
             }
            },
            "header": {
             "fill": {
              "color": "#000040"
             },
             "font": {
              "color": "#000036"
             },
             "line": {
              "color": "#000039"
             }
            },
            "type": "table"
           }
          ],
          "waterfall": [
           {
            "connector": {
             "line": {
              "color": "#000036",
              "width": 2
             }
            },
            "decreasing": {
             "marker": {
              "color": "#000033"
             }
            },
            "increasing": {
             "marker": {
              "color": "#000032"
             }
            },
            "totals": {
             "marker": {
              "color": "#000034"
             }
            },
            "type": "waterfall"
           }
          ]
         },
         "layout": {
          "coloraxis": {
           "colorscale": [
            [
             0,
             "#000011"
            ],
            [
             0.1111111111111111,
             "#000012"
            ],
            [
             0.2222222222222222,
             "#000013"
            ],
            [
             0.3333333333333333,
             "#000014"
            ],
            [
             0.4444444444444444,
             "#000015"
            ],
            [
             0.5555555555555556,
             "#000016"
            ],
            [
             0.6666666666666666,
             "#000017"
            ],
            [
             0.7777777777777778,
             "#000018"
            ],
            [
             0.8888888888888888,
             "#000019"
            ],
            [
             1,
             "#000020"
            ]
           ]
          },
          "colorscale": {
           "diverging": [
            [
             0,
             "#000021"
            ],
            [
             0.1,
             "#000022"
            ],
            [
             0.2,
             "#000023"
            ],
            [
             0.3,
             "#000024"
            ],
            [
             0.4,
             "#000025"
            ],
            [
             0.5,
             "#000026"
            ],
            [
             0.6,
             "#000027"
            ],
            [
             0.7,
             "#000028"
            ],
            [
             0.8,
             "#000029"
            ],
            [
             0.9,
             "#000030"
            ],
            [
             1,
             "#000031"
            ]
           ],
           "sequential": [
            [
             0,
             "#000011"
            ],
            [
             0.1111111111111111,
             "#000012"
            ],
            [
             0.2222222222222222,
             "#000013"
            ],
            [
             0.3333333333333333,
             "#000014"
            ],
            [
             0.4444444444444444,
             "#000015"
            ],
            [
             0.5555555555555556,
             "#000016"
            ],
            [
             0.6666666666666666,
             "#000017"
            ],
            [
             0.7777777777777778,
             "#000018"
            ],
            [
             0.8888888888888888,
             "#000019"
            ],
            [
             1,
             "#000020"
            ]
           ],
           "sequentialminus": [
            [
             0,
             "#000011"
            ],
            [
             0.1111111111111111,
             "#000012"
            ],
            [
             0.2222222222222222,
             "#000013"
            ],
            [
             0.3333333333333333,
             "#000014"
            ],
            [
             0.4444444444444444,
             "#000015"
            ],
            [
             0.5555555555555556,
             "#000016"
            ],
            [
             0.6666666666666666,
             "#000017"
            ],
            [
             0.7777777777777778,
             "#000018"
            ],
            [
             0.8888888888888888,
             "#000019"
            ],
            [
             1,
             "#000020"
            ]
           ]
          },
          "colorway": [
           "#000001",
           "#000002",
           "#000003",
           "#000004",
           "#000005",
           "#000006",
           "#000007",
           "#000008",
           "#000009",
           "#000010"
          ]
         }
        },
        "title": {
         "text": "Valores de DEC por Equipamento"
        },
        "width": 600,
        "xaxis": {
         "anchor": "y",
         "domain": [
          0,
          1
         ],
         "range": [
          0,
          0.13387000000000002
         ],
         "tickformat": ".3f",
         "title": {
          "text": "Valor do DEC"
         }
        },
        "yaxis": {
         "anchor": "x",
         "domain": [
          0,
          1
         ],
         "title": {
          "text": "Nome do Equipamento"
         },
         "type": "category"
        }
       }
      }
     },
     "metadata": {},
     "output_type": "display_data"
    }
   ],
   "source": [
    "df_equipamentos = df_equipamentos.head(20).sort_values(by='DEC',ascending=True)\n",
    "df_equipamentos['EQUIPAMENTO'] = df_equipamentos['EQUIPAMENTO'].astype(str)\n",
    "\n",
    "# Garanta que a coluna 'EQUIPAMENTO' seja tratada como uma categoria\n",
    "df_equipamentos['EQUIPAMENTO'] = pd.Categorical(df_equipamentos['EQUIPAMENTO'], categories=df_equipamentos['EQUIPAMENTO'].unique())\n",
    "\n",
    "# Encontre o valor máximo de DEC\n",
    "max_dec = df_equipamentos['DEC'].max()\n",
    "\n",
    "# Crie o gráfico de barras horizontais com rótulos de dados\n",
    "fig = px.bar(df_equipamentos.tail(20), x='DEC', y='EQUIPAMENTO', \n",
    "             title='Valores de DEC por Equipamento',\n",
    "             labels={'EQUIPAMENTO': 'Nome do Equipamento', 'DEC': 'Valor do DEC'},\n",
    "             text='DEC',  # Adiciona os rótulos de dados\n",
    "             color_discrete_sequence=['#2F2E79'],  # Define uma cor uniforme para todas as barras\n",
    "             orientation='h')  # Define a orientação horizontal das barras\n",
    "\n",
    "# Ajuste o layout do gráfico\n",
    "fig.update_layout(\n",
    "    xaxis_title='Valor do DEC',\n",
    "    yaxis_title='Nome do Equipamento',\n",
    "    xaxis=dict(range=[0, max_dec * 1.1]),  # Define o intervalo do eixo x\n",
    "    yaxis_type='category',  # Força o eixo y a ser categórico\n",
    "    xaxis_tickformat='.3f',  # Formato dos rótulos do eixo x\n",
    "    bargap=0.1,  # Diminui a largura das barras (ajuste conforme necessário)\n",
    "    height=800,  # Aumenta a altura do gráfico para melhor visualização\n",
    "    width=600  # Aumenta a largura do gráfico para melhor visualização\n",
    ")\n",
    "\n",
    "# Ajuste a aparência dos rótulos de dados\n",
    "fig.update_traces(\n",
    "    texttemplate='%{text:.3f}',  # Ajusta a precisão dos rótulos\n",
    "    textposition='inside',  # Coloca os rótulos dentro das barras\n",
    "    textfont=dict(color='white', size=12),  # Define a cor dos rótulos como branca e aumenta o tamanho da fonte\n",
    "    textangle=0  # Define a rotação dos rótulos para horizontal\n",
    ")\n",
    "\n",
    "fig.show()\n"
   ]
  },
  {
   "cell_type": "markdown",
   "metadata": {},
   "source": [
    " Desenvolva uma visão que permita realizar uma busca por equipamento e visualizar: a quantidade de interrupções por mês, o DEC acumulado e o DEC de cada interrupção deste componente ao longo do período."
   ]
  },
  {
   "cell_type": "code",
   "execution_count": 263,
   "metadata": {},
   "outputs": [],
   "source": [
    "df_pergunta4 = df[['OCORRENCIA_ID','DATA','EQUIPAMENTO','DEC']]\n",
    "teste = df_pergunta4[df_pergunta4['EQUIPAMENTO'] == 'VAL01C1']"
   ]
  },
  {
   "cell_type": "code",
   "execution_count": 251,
   "metadata": {},
   "outputs": [
    {
     "name": "stderr",
     "output_type": "stream",
     "text": [
      "C:\\Users\\Victor\\AppData\\Local\\Temp\\ipykernel_9000\\646531557.py:2: FutureWarning:\n",
      "\n",
      "'M' is deprecated and will be removed in a future version, please use 'ME' instead.\n",
      "\n"
     ]
    }
   ],
   "source": [
    "# Agrupar por REGIONAL e DATA (mensal)\n",
    "df_num_interrup_equipamentos = teste.groupby( pd.Grouper(key='DATA', freq='M'))['OCORRENCIA_ID'].count().reset_index()\n",
    "df_num_interrup_equipamentos.columns = ['DATA','CONTAGEM']\n",
    "\n",
    "# Formatar a coluna DATA para mostrar apenas o mês e o ano\n",
    "df_num_interrup_equipamentos['MES'] = df_num_interrup_equipamentos['DATA'].dt.to_period('M').astype(str)\n",
    "\n",
    "# Dicionário de meses em português\n",
    "meses_pt = {\n",
    "    '2024-01': 'Janeiro',\n",
    "    '2024-02': 'Fevereiro',\n",
    "    '2024-03': 'Março',\n",
    "    '2024-04': 'Abril',\n",
    "    '2024-05': 'Maio',\n",
    "    '2024-06': 'Junho',\n",
    "    '2024-07': 'Julho',\n",
    "    '2024-08': 'Agosto',\n",
    "    '2024-09': 'Setembro',\n",
    "    '2024-10': 'Outubro',\n",
    "    '2024-11': 'Novembro',\n",
    "    '2024-12': 'Dezembro'\n",
    "}\n",
    "\n",
    "\n",
    "# Substituir os valores na coluna 'MES' com os nomes dos meses em português\n",
    "df_num_interrup_equipamentos['MES'] = df_num_interrup_equipamentos['MES'].map(meses_pt)"
   ]
  },
  {
   "cell_type": "code",
   "execution_count": 252,
   "metadata": {},
   "outputs": [
    {
     "data": {
      "application/vnd.plotly.v1+json": {
       "config": {
        "plotlyServerURL": "https://plot.ly"
       },
       "data": [
        {
         "hovertemplate": "MES=%{x}<br>CONTAGEM=%{text}<extra></extra>",
         "legendgroup": "",
         "line": {
          "color": "#2F2E79",
          "dash": "solid",
          "width": 3
         },
         "marker": {
          "color": "#2F2E79",
          "line": {
           "color": "#2F2E79",
           "width": 2
          },
          "size": 8,
          "symbol": "circle"
         },
         "mode": "lines+markers+text",
         "name": "",
         "orientation": "v",
         "showlegend": false,
         "text": [
          3,
          0,
          1,
          2
         ],
         "textposition": "top center",
         "texttemplate": "%{text:.0f}",
         "type": "scatter",
         "x": [
          "Fevereiro",
          "Março",
          "Abril",
          "Maio"
         ],
         "xaxis": "x",
         "y": [
          3,
          0,
          1,
          2
         ],
         "yaxis": "y"
        }
       ],
       "layout": {
        "height": 400,
        "legend": {
         "tracegroupgap": 0
        },
        "template": {
         "data": {
          "candlestick": [
           {
            "decreasing": {
             "line": {
              "color": "#000033"
             }
            },
            "increasing": {
             "line": {
              "color": "#000032"
             }
            },
            "type": "candlestick"
           }
          ],
          "contour": [
           {
            "colorscale": [
             [
              0,
              "#000011"
             ],
             [
              0.1111111111111111,
              "#000012"
             ],
             [
              0.2222222222222222,
              "#000013"
             ],
             [
              0.3333333333333333,
              "#000014"
             ],
             [
              0.4444444444444444,
              "#000015"
             ],
             [
              0.5555555555555556,
              "#000016"
             ],
             [
              0.6666666666666666,
              "#000017"
             ],
             [
              0.7777777777777778,
              "#000018"
             ],
             [
              0.8888888888888888,
              "#000019"
             ],
             [
              1,
              "#000020"
             ]
            ],
            "type": "contour"
           }
          ],
          "contourcarpet": [
           {
            "colorscale": [
             [
              0,
              "#000011"
             ],
             [
              0.1111111111111111,
              "#000012"
             ],
             [
              0.2222222222222222,
              "#000013"
             ],
             [
              0.3333333333333333,
              "#000014"
             ],
             [
              0.4444444444444444,
              "#000015"
             ],
             [
              0.5555555555555556,
              "#000016"
             ],
             [
              0.6666666666666666,
              "#000017"
             ],
             [
              0.7777777777777778,
              "#000018"
             ],
             [
              0.8888888888888888,
              "#000019"
             ],
             [
              1,
              "#000020"
             ]
            ],
            "type": "contourcarpet"
           }
          ],
          "heatmap": [
           {
            "colorscale": [
             [
              0,
              "#000011"
             ],
             [
              0.1111111111111111,
              "#000012"
             ],
             [
              0.2222222222222222,
              "#000013"
             ],
             [
              0.3333333333333333,
              "#000014"
             ],
             [
              0.4444444444444444,
              "#000015"
             ],
             [
              0.5555555555555556,
              "#000016"
             ],
             [
              0.6666666666666666,
              "#000017"
             ],
             [
              0.7777777777777778,
              "#000018"
             ],
             [
              0.8888888888888888,
              "#000019"
             ],
             [
              1,
              "#000020"
             ]
            ],
            "type": "heatmap"
           }
          ],
          "histogram2d": [
           {
            "colorscale": [
             [
              0,
              "#000011"
             ],
             [
              0.1111111111111111,
              "#000012"
             ],
             [
              0.2222222222222222,
              "#000013"
             ],
             [
              0.3333333333333333,
              "#000014"
             ],
             [
              0.4444444444444444,
              "#000015"
             ],
             [
              0.5555555555555556,
              "#000016"
             ],
             [
              0.6666666666666666,
              "#000017"
             ],
             [
              0.7777777777777778,
              "#000018"
             ],
             [
              0.8888888888888888,
              "#000019"
             ],
             [
              1,
              "#000020"
             ]
            ],
            "type": "histogram2d"
           }
          ],
          "icicle": [
           {
            "textfont": {
             "color": "white"
            },
            "type": "icicle"
           }
          ],
          "sankey": [
           {
            "textfont": {
             "color": "#000036"
            },
            "type": "sankey"
           }
          ],
          "scatter": [
           {
            "marker": {
             "line": {
              "width": 0
             }
            },
            "type": "scatter"
           }
          ],
          "table": [
           {
            "cells": {
             "fill": {
              "color": "#000038"
             },
             "font": {
              "color": "#000037"
             },
             "line": {
              "color": "#000039"
             }
            },
            "header": {
             "fill": {
              "color": "#000040"
             },
             "font": {
              "color": "#000036"
             },
             "line": {
              "color": "#000039"
             }
            },
            "type": "table"
           }
          ],
          "waterfall": [
           {
            "connector": {
             "line": {
              "color": "#000036",
              "width": 2
             }
            },
            "decreasing": {
             "marker": {
              "color": "#000033"
             }
            },
            "increasing": {
             "marker": {
              "color": "#000032"
             }
            },
            "totals": {
             "marker": {
              "color": "#000034"
             }
            },
            "type": "waterfall"
           }
          ]
         },
         "layout": {
          "coloraxis": {
           "colorscale": [
            [
             0,
             "#000011"
            ],
            [
             0.1111111111111111,
             "#000012"
            ],
            [
             0.2222222222222222,
             "#000013"
            ],
            [
             0.3333333333333333,
             "#000014"
            ],
            [
             0.4444444444444444,
             "#000015"
            ],
            [
             0.5555555555555556,
             "#000016"
            ],
            [
             0.6666666666666666,
             "#000017"
            ],
            [
             0.7777777777777778,
             "#000018"
            ],
            [
             0.8888888888888888,
             "#000019"
            ],
            [
             1,
             "#000020"
            ]
           ]
          },
          "colorscale": {
           "diverging": [
            [
             0,
             "#000021"
            ],
            [
             0.1,
             "#000022"
            ],
            [
             0.2,
             "#000023"
            ],
            [
             0.3,
             "#000024"
            ],
            [
             0.4,
             "#000025"
            ],
            [
             0.5,
             "#000026"
            ],
            [
             0.6,
             "#000027"
            ],
            [
             0.7,
             "#000028"
            ],
            [
             0.8,
             "#000029"
            ],
            [
             0.9,
             "#000030"
            ],
            [
             1,
             "#000031"
            ]
           ],
           "sequential": [
            [
             0,
             "#000011"
            ],
            [
             0.1111111111111111,
             "#000012"
            ],
            [
             0.2222222222222222,
             "#000013"
            ],
            [
             0.3333333333333333,
             "#000014"
            ],
            [
             0.4444444444444444,
             "#000015"
            ],
            [
             0.5555555555555556,
             "#000016"
            ],
            [
             0.6666666666666666,
             "#000017"
            ],
            [
             0.7777777777777778,
             "#000018"
            ],
            [
             0.8888888888888888,
             "#000019"
            ],
            [
             1,
             "#000020"
            ]
           ],
           "sequentialminus": [
            [
             0,
             "#000011"
            ],
            [
             0.1111111111111111,
             "#000012"
            ],
            [
             0.2222222222222222,
             "#000013"
            ],
            [
             0.3333333333333333,
             "#000014"
            ],
            [
             0.4444444444444444,
             "#000015"
            ],
            [
             0.5555555555555556,
             "#000016"
            ],
            [
             0.6666666666666666,
             "#000017"
            ],
            [
             0.7777777777777778,
             "#000018"
            ],
            [
             0.8888888888888888,
             "#000019"
            ],
            [
             1,
             "#000020"
            ]
           ]
          },
          "colorway": [
           "#000001",
           "#000002",
           "#000003",
           "#000004",
           "#000005",
           "#000006",
           "#000007",
           "#000008",
           "#000009",
           "#000010"
          ]
         }
        },
        "title": {
         "text": "Quantidade de Interrupções por Mês"
        },
        "width": 800,
        "xaxis": {
         "anchor": "y",
         "domain": [
          0,
          1
         ],
         "tickangle": 0,
         "title": {
          "text": "Mês"
         }
        },
        "yaxis": {
         "anchor": "x",
         "domain": [
          0,
          1
         ],
         "range": [
          0,
          3.9000000000000004
         ],
         "title": {
          "text": "Número de Interrupções"
         }
        }
       }
      }
     },
     "metadata": {},
     "output_type": "display_data"
    }
   ],
   "source": [
    "# Encontre o valor máximo de CONTAGEM\n",
    "max_contagem = df_num_interrup_equipamentos['CONTAGEM'].max()\n",
    "\n",
    "# Crie o gráfico de linha por mês com marcadores e rótulos de dados\n",
    "fig = px.line(df_num_interrup_equipamentos, x='MES', y='CONTAGEM', \n",
    "             title='Quantidade de Interrupções por Mês',\n",
    "             #labels={'MES': 'Mês', 'CONTAGEM': 'Número de Interrupções'},\n",
    "             color_discrete_sequence=['#2F2E79'],  # Define uma cor uniforme para a linha\n",
    "             text='CONTAGEM')  # Adiciona os rótulos de dados\n",
    "\n",
    "# Ajuste o layout do gráfico\n",
    "fig.update_layout(\n",
    "    xaxis_title='Mês',\n",
    "    yaxis_title='Número de Interrupções',\n",
    "    xaxis_tickangle=0,  # Inclina os rótulos do eixo x para melhor leitura\n",
    "    yaxis=dict(range=[0, max_contagem * 1.3]),  # Define o intervalo do eixo y\n",
    "    height=400,  # Ajusta a altura do gráfico\n",
    "    width=800  # Ajusta a largura do gráfico\n",
    ")\n",
    "\n",
    "# Adicione marcadores e rótulos de dados à linha\n",
    "fig.update_traces(\n",
    "    mode='lines+markers+text',  # Adiciona marcadores e rótulos de dados\n",
    "    marker=dict(size=8, color='#2F2E79', line=dict(width=2, color='#2F2E79')),  # Estilo dos marcadores\n",
    "    line=dict(width=3),  # Define a largura da linha\n",
    "    textposition='top center',  # Posição dos rótulos de dados\n",
    "    texttemplate='%{text:.0f}'  # Formato dos rótulos de dados (número inteiro)\n",
    ")\n",
    "\n",
    "fig.show()"
   ]
  },
  {
   "cell_type": "code",
   "execution_count": 264,
   "metadata": {},
   "outputs": [],
   "source": [
    "df_pergunta4 = df[['OCORRENCIA_ID','DATA','EQUIPAMENTO','DEC']]\n",
    "df_dec_acumulado = df_pergunta4[['DATA','DEC']]\n",
    "df_dec_acumulado.set_index('DATA',inplace=True)"
   ]
  },
  {
   "cell_type": "code",
   "execution_count": 265,
   "metadata": {},
   "outputs": [
    {
     "data": {
      "application/vnd.plotly.v1+json": {
       "config": {
        "plotlyServerURL": "https://plot.ly"
       },
       "data": [
        {
         "connector": {
          "line": {
           "color": "rgba(63, 63, 63, 0.7)"
          }
         },
         "decreasing": {
          "marker": {
           "color": "#F15B40"
          }
         },
         "increasing": {
          "marker": {
           "color": "#FABD0A"
          }
         },
         "measure": [
          "relative",
          "relative",
          "relative",
          "relative"
         ],
         "name": "DEC Acumulado",
         "orientation": "v",
         "text": [
          "0.01",
          "0.03",
          "0.02",
          "0.03"
         ],
         "textposition": "outside",
         "totals": {
          "marker": {
           "color": "#2F2E79"
          }
         },
         "type": "waterfall",
         "x": [
          "20/01/2024",
          "21/02/2024",
          "04/03/2024",
          "13/03/2024"
         ],
         "y": [
          0.0113077705493492,
          0.0256625682178698,
          0.0161791261789021,
          0.0253932358691542
         ]
        }
       ],
       "layout": {
        "height": 400,
        "showlegend": false,
        "template": {
         "data": {
          "candlestick": [
           {
            "decreasing": {
             "line": {
              "color": "#000033"
             }
            },
            "increasing": {
             "line": {
              "color": "#000032"
             }
            },
            "type": "candlestick"
           }
          ],
          "contour": [
           {
            "colorscale": [
             [
              0,
              "#000011"
             ],
             [
              0.1111111111111111,
              "#000012"
             ],
             [
              0.2222222222222222,
              "#000013"
             ],
             [
              0.3333333333333333,
              "#000014"
             ],
             [
              0.4444444444444444,
              "#000015"
             ],
             [
              0.5555555555555556,
              "#000016"
             ],
             [
              0.6666666666666666,
              "#000017"
             ],
             [
              0.7777777777777778,
              "#000018"
             ],
             [
              0.8888888888888888,
              "#000019"
             ],
             [
              1,
              "#000020"
             ]
            ],
            "type": "contour"
           }
          ],
          "contourcarpet": [
           {
            "colorscale": [
             [
              0,
              "#000011"
             ],
             [
              0.1111111111111111,
              "#000012"
             ],
             [
              0.2222222222222222,
              "#000013"
             ],
             [
              0.3333333333333333,
              "#000014"
             ],
             [
              0.4444444444444444,
              "#000015"
             ],
             [
              0.5555555555555556,
              "#000016"
             ],
             [
              0.6666666666666666,
              "#000017"
             ],
             [
              0.7777777777777778,
              "#000018"
             ],
             [
              0.8888888888888888,
              "#000019"
             ],
             [
              1,
              "#000020"
             ]
            ],
            "type": "contourcarpet"
           }
          ],
          "heatmap": [
           {
            "colorscale": [
             [
              0,
              "#000011"
             ],
             [
              0.1111111111111111,
              "#000012"
             ],
             [
              0.2222222222222222,
              "#000013"
             ],
             [
              0.3333333333333333,
              "#000014"
             ],
             [
              0.4444444444444444,
              "#000015"
             ],
             [
              0.5555555555555556,
              "#000016"
             ],
             [
              0.6666666666666666,
              "#000017"
             ],
             [
              0.7777777777777778,
              "#000018"
             ],
             [
              0.8888888888888888,
              "#000019"
             ],
             [
              1,
              "#000020"
             ]
            ],
            "type": "heatmap"
           }
          ],
          "histogram2d": [
           {
            "colorscale": [
             [
              0,
              "#000011"
             ],
             [
              0.1111111111111111,
              "#000012"
             ],
             [
              0.2222222222222222,
              "#000013"
             ],
             [
              0.3333333333333333,
              "#000014"
             ],
             [
              0.4444444444444444,
              "#000015"
             ],
             [
              0.5555555555555556,
              "#000016"
             ],
             [
              0.6666666666666666,
              "#000017"
             ],
             [
              0.7777777777777778,
              "#000018"
             ],
             [
              0.8888888888888888,
              "#000019"
             ],
             [
              1,
              "#000020"
             ]
            ],
            "type": "histogram2d"
           }
          ],
          "icicle": [
           {
            "textfont": {
             "color": "white"
            },
            "type": "icicle"
           }
          ],
          "sankey": [
           {
            "textfont": {
             "color": "#000036"
            },
            "type": "sankey"
           }
          ],
          "scatter": [
           {
            "marker": {
             "line": {
              "width": 0
             }
            },
            "type": "scatter"
           }
          ],
          "table": [
           {
            "cells": {
             "fill": {
              "color": "#000038"
             },
             "font": {
              "color": "#000037"
             },
             "line": {
              "color": "#000039"
             }
            },
            "header": {
             "fill": {
              "color": "#000040"
             },
             "font": {
              "color": "#000036"
             },
             "line": {
              "color": "#000039"
             }
            },
            "type": "table"
           }
          ],
          "waterfall": [
           {
            "connector": {
             "line": {
              "color": "#000036",
              "width": 2
             }
            },
            "decreasing": {
             "marker": {
              "color": "#000033"
             }
            },
            "increasing": {
             "marker": {
              "color": "#000032"
             }
            },
            "totals": {
             "marker": {
              "color": "#000034"
             }
            },
            "type": "waterfall"
           }
          ]
         },
         "layout": {
          "coloraxis": {
           "colorscale": [
            [
             0,
             "#000011"
            ],
            [
             0.1111111111111111,
             "#000012"
            ],
            [
             0.2222222222222222,
             "#000013"
            ],
            [
             0.3333333333333333,
             "#000014"
            ],
            [
             0.4444444444444444,
             "#000015"
            ],
            [
             0.5555555555555556,
             "#000016"
            ],
            [
             0.6666666666666666,
             "#000017"
            ],
            [
             0.7777777777777778,
             "#000018"
            ],
            [
             0.8888888888888888,
             "#000019"
            ],
            [
             1,
             "#000020"
            ]
           ]
          },
          "colorscale": {
           "diverging": [
            [
             0,
             "#000021"
            ],
            [
             0.1,
             "#000022"
            ],
            [
             0.2,
             "#000023"
            ],
            [
             0.3,
             "#000024"
            ],
            [
             0.4,
             "#000025"
            ],
            [
             0.5,
             "#000026"
            ],
            [
             0.6,
             "#000027"
            ],
            [
             0.7,
             "#000028"
            ],
            [
             0.8,
             "#000029"
            ],
            [
             0.9,
             "#000030"
            ],
            [
             1,
             "#000031"
            ]
           ],
           "sequential": [
            [
             0,
             "#000011"
            ],
            [
             0.1111111111111111,
             "#000012"
            ],
            [
             0.2222222222222222,
             "#000013"
            ],
            [
             0.3333333333333333,
             "#000014"
            ],
            [
             0.4444444444444444,
             "#000015"
            ],
            [
             0.5555555555555556,
             "#000016"
            ],
            [
             0.6666666666666666,
             "#000017"
            ],
            [
             0.7777777777777778,
             "#000018"
            ],
            [
             0.8888888888888888,
             "#000019"
            ],
            [
             1,
             "#000020"
            ]
           ],
           "sequentialminus": [
            [
             0,
             "#000011"
            ],
            [
             0.1111111111111111,
             "#000012"
            ],
            [
             0.2222222222222222,
             "#000013"
            ],
            [
             0.3333333333333333,
             "#000014"
            ],
            [
             0.4444444444444444,
             "#000015"
            ],
            [
             0.5555555555555556,
             "#000016"
            ],
            [
             0.6666666666666666,
             "#000017"
            ],
            [
             0.7777777777777778,
             "#000018"
            ],
            [
             0.8888888888888888,
             "#000019"
            ],
            [
             1,
             "#000020"
            ]
           ]
          },
          "colorway": [
           "#000001",
           "#000002",
           "#000003",
           "#000004",
           "#000005",
           "#000006",
           "#000007",
           "#000008",
           "#000009",
           "#000010"
          ]
         }
        },
        "title": {
         "text": "DEC Acumulado e DEC de Cada Interrupção"
        },
        "width": 800,
        "xaxis": {
         "title": {
          "text": "Data"
         }
        },
        "yaxis": {
         "title": {
          "text": "Valor do DEC"
         }
        }
       }
      }
     },
     "metadata": {},
     "output_type": "display_data"
    }
   ],
   "source": [
    "# Preparar dados para o DEC acumulado\n",
    "df_dec_acumulado = teste[['DATA', 'DEC']].copy()\n",
    "df_dec_acumulado.set_index('DATA', inplace=True)\n",
    "df_dec_acumulado = df_dec_acumulado.sort_index()\n",
    "df_dec_acumulado['DEC_ACUMULADO'] = df_dec_acumulado['DEC'].cumsum()  # Calcula o DEC acumulado\n",
    "\n",
    "# Preparar dados para DEC de cada interrupção\n",
    "df_dec_interrupcao = teste.copy()\n",
    "df_dec_interrupcao['DATA'] = pd.to_datetime(df_dec_interrupcao['DATA'])\n",
    "df_dec_interrupcao.set_index('DATA', inplace=True)\n",
    "df_dec_interrupcao = df_dec_interrupcao.sort_index()\n",
    "\n",
    "# Combine os dados\n",
    "df_combined = df_dec_acumulado[['DEC_ACUMULADO']].copy()\n",
    "df_combined['DEC_INTERUPCAO'] = df_dec_interrupcao['DEC']\n",
    "\n",
    "# Crie o gráfico de cascata (waterfall)\n",
    "fig = go.Figure(go.Waterfall(\n",
    "    name=\"DEC Acumulado\",\n",
    "    orientation=\"v\",\n",
    "    measure=[\"relative\"] * len(df_combined),  # \"relative\" indica que os valores são incrementais\n",
    "    x=df_combined.index.strftime('%d/%m/%Y'),  # Datas como rótulos\n",
    "    textposition=\"outside\",\n",
    "    text=df_combined['DEC_INTERUPCAO'].round(2).astype(str),  # Texto das barras\n",
    "    y=df_combined['DEC_INTERUPCAO'],  # Valores das interrupções\n",
    "    connector={\"line\": {\"color\": \"rgba(63, 63, 63, 0.7)\"}},  # Linha de conexão entre barras\n",
    "    increasing={\"marker\": {\"color\": \"#FABD0A\"}},  # Cor das barras para DEC\n",
    "    decreasing={\"marker\": {\"color\": \"#F15B40\"}},  # Cor das barras negativas (não aplicável aqui)\n",
    "    totals={\"marker\": {\"color\": \"#2F2E79\"}}  # Cor do total (não aplicável aqui)\n",
    "))\n",
    "\n",
    "# Ajuste o layout do gráfico\n",
    "fig.update_layout(\n",
    "    title=\"DEC Acumulado e DEC de Cada Interrupção\",\n",
    "    xaxis_title=\"Data\",\n",
    "    yaxis_title=\"Valor do DEC\",\n",
    "    height=400,\n",
    "    width=800,\n",
    "    showlegend=False\n",
    ")\n",
    "\n",
    "fig.show()"
   ]
  },
  {
   "cell_type": "code",
   "execution_count": 266,
   "metadata": {},
   "outputs": [
    {
     "data": {
      "application/vnd.plotly.v1+json": {
       "config": {
        "plotlyServerURL": "https://plot.ly"
       },
       "data": [
        {
         "connector": {
          "line": {
           "color": "rgba(63, 63, 63, 0.7)"
          }
         },
         "decreasing": {
          "marker": {
           "color": "#F15B40"
          }
         },
         "increasing": {
          "marker": {
           "color": "#FABD0A"
          }
         },
         "measure": [
          "relative",
          "relative",
          "relative",
          "relative"
         ],
         "name": "DEC por Interrupção",
         "orientation": "v",
         "text": [
          "0.01",
          "0.03",
          "0.02",
          "0.03"
         ],
         "textposition": "outside",
         "totals": {
          "marker": {
           "color": "#2F2E79"
          }
         },
         "type": "waterfall",
         "x": [
          "20/01/2024",
          "21/02/2024",
          "04/03/2024",
          "13/03/2024"
         ],
         "y": [
          0.0113077705493492,
          0.0256625682178698,
          0.0161791261789021,
          0.0253932358691542
         ]
        },
        {
         "line": {
          "color": "#2F2E79",
          "width": 4
         },
         "mode": "lines+markers+text",
         "name": "DEC Acumulado",
         "text": [
          "0.01",
          "0.04",
          "0.05",
          "0.08"
         ],
         "textposition": "top center",
         "type": "scatter",
         "x": [
          "20/01/2024",
          "21/02/2024",
          "04/03/2024",
          "13/03/2024"
         ],
         "y": [
          0.0113077705493492,
          0.036970338767219,
          0.053149464946121106,
          0.07854270081527531
         ]
        }
       ],
       "layout": {
        "height": 600,
        "showlegend": true,
        "template": {
         "data": {
          "candlestick": [
           {
            "decreasing": {
             "line": {
              "color": "#000033"
             }
            },
            "increasing": {
             "line": {
              "color": "#000032"
             }
            },
            "type": "candlestick"
           }
          ],
          "contour": [
           {
            "colorscale": [
             [
              0,
              "#000011"
             ],
             [
              0.1111111111111111,
              "#000012"
             ],
             [
              0.2222222222222222,
              "#000013"
             ],
             [
              0.3333333333333333,
              "#000014"
             ],
             [
              0.4444444444444444,
              "#000015"
             ],
             [
              0.5555555555555556,
              "#000016"
             ],
             [
              0.6666666666666666,
              "#000017"
             ],
             [
              0.7777777777777778,
              "#000018"
             ],
             [
              0.8888888888888888,
              "#000019"
             ],
             [
              1,
              "#000020"
             ]
            ],
            "type": "contour"
           }
          ],
          "contourcarpet": [
           {
            "colorscale": [
             [
              0,
              "#000011"
             ],
             [
              0.1111111111111111,
              "#000012"
             ],
             [
              0.2222222222222222,
              "#000013"
             ],
             [
              0.3333333333333333,
              "#000014"
             ],
             [
              0.4444444444444444,
              "#000015"
             ],
             [
              0.5555555555555556,
              "#000016"
             ],
             [
              0.6666666666666666,
              "#000017"
             ],
             [
              0.7777777777777778,
              "#000018"
             ],
             [
              0.8888888888888888,
              "#000019"
             ],
             [
              1,
              "#000020"
             ]
            ],
            "type": "contourcarpet"
           }
          ],
          "heatmap": [
           {
            "colorscale": [
             [
              0,
              "#000011"
             ],
             [
              0.1111111111111111,
              "#000012"
             ],
             [
              0.2222222222222222,
              "#000013"
             ],
             [
              0.3333333333333333,
              "#000014"
             ],
             [
              0.4444444444444444,
              "#000015"
             ],
             [
              0.5555555555555556,
              "#000016"
             ],
             [
              0.6666666666666666,
              "#000017"
             ],
             [
              0.7777777777777778,
              "#000018"
             ],
             [
              0.8888888888888888,
              "#000019"
             ],
             [
              1,
              "#000020"
             ]
            ],
            "type": "heatmap"
           }
          ],
          "histogram2d": [
           {
            "colorscale": [
             [
              0,
              "#000011"
             ],
             [
              0.1111111111111111,
              "#000012"
             ],
             [
              0.2222222222222222,
              "#000013"
             ],
             [
              0.3333333333333333,
              "#000014"
             ],
             [
              0.4444444444444444,
              "#000015"
             ],
             [
              0.5555555555555556,
              "#000016"
             ],
             [
              0.6666666666666666,
              "#000017"
             ],
             [
              0.7777777777777778,
              "#000018"
             ],
             [
              0.8888888888888888,
              "#000019"
             ],
             [
              1,
              "#000020"
             ]
            ],
            "type": "histogram2d"
           }
          ],
          "icicle": [
           {
            "textfont": {
             "color": "white"
            },
            "type": "icicle"
           }
          ],
          "sankey": [
           {
            "textfont": {
             "color": "#000036"
            },
            "type": "sankey"
           }
          ],
          "scatter": [
           {
            "marker": {
             "line": {
              "width": 0
             }
            },
            "type": "scatter"
           }
          ],
          "table": [
           {
            "cells": {
             "fill": {
              "color": "#000038"
             },
             "font": {
              "color": "#000037"
             },
             "line": {
              "color": "#000039"
             }
            },
            "header": {
             "fill": {
              "color": "#000040"
             },
             "font": {
              "color": "#000036"
             },
             "line": {
              "color": "#000039"
             }
            },
            "type": "table"
           }
          ],
          "waterfall": [
           {
            "connector": {
             "line": {
              "color": "#000036",
              "width": 2
             }
            },
            "decreasing": {
             "marker": {
              "color": "#000033"
             }
            },
            "increasing": {
             "marker": {
              "color": "#000032"
             }
            },
            "totals": {
             "marker": {
              "color": "#000034"
             }
            },
            "type": "waterfall"
           }
          ]
         },
         "layout": {
          "coloraxis": {
           "colorscale": [
            [
             0,
             "#000011"
            ],
            [
             0.1111111111111111,
             "#000012"
            ],
            [
             0.2222222222222222,
             "#000013"
            ],
            [
             0.3333333333333333,
             "#000014"
            ],
            [
             0.4444444444444444,
             "#000015"
            ],
            [
             0.5555555555555556,
             "#000016"
            ],
            [
             0.6666666666666666,
             "#000017"
            ],
            [
             0.7777777777777778,
             "#000018"
            ],
            [
             0.8888888888888888,
             "#000019"
            ],
            [
             1,
             "#000020"
            ]
           ]
          },
          "colorscale": {
           "diverging": [
            [
             0,
             "#000021"
            ],
            [
             0.1,
             "#000022"
            ],
            [
             0.2,
             "#000023"
            ],
            [
             0.3,
             "#000024"
            ],
            [
             0.4,
             "#000025"
            ],
            [
             0.5,
             "#000026"
            ],
            [
             0.6,
             "#000027"
            ],
            [
             0.7,
             "#000028"
            ],
            [
             0.8,
             "#000029"
            ],
            [
             0.9,
             "#000030"
            ],
            [
             1,
             "#000031"
            ]
           ],
           "sequential": [
            [
             0,
             "#000011"
            ],
            [
             0.1111111111111111,
             "#000012"
            ],
            [
             0.2222222222222222,
             "#000013"
            ],
            [
             0.3333333333333333,
             "#000014"
            ],
            [
             0.4444444444444444,
             "#000015"
            ],
            [
             0.5555555555555556,
             "#000016"
            ],
            [
             0.6666666666666666,
             "#000017"
            ],
            [
             0.7777777777777778,
             "#000018"
            ],
            [
             0.8888888888888888,
             "#000019"
            ],
            [
             1,
             "#000020"
            ]
           ],
           "sequentialminus": [
            [
             0,
             "#000011"
            ],
            [
             0.1111111111111111,
             "#000012"
            ],
            [
             0.2222222222222222,
             "#000013"
            ],
            [
             0.3333333333333333,
             "#000014"
            ],
            [
             0.4444444444444444,
             "#000015"
            ],
            [
             0.5555555555555556,
             "#000016"
            ],
            [
             0.6666666666666666,
             "#000017"
            ],
            [
             0.7777777777777778,
             "#000018"
            ],
            [
             0.8888888888888888,
             "#000019"
            ],
            [
             1,
             "#000020"
            ]
           ]
          },
          "colorway": [
           "#000001",
           "#000002",
           "#000003",
           "#000004",
           "#000005",
           "#000006",
           "#000007",
           "#000008",
           "#000009",
           "#000010"
          ]
         }
        },
        "title": {
         "text": "DEC Acumulado e DEC de Cada Interrupção"
        },
        "width": 1000,
        "xaxis": {
         "title": {
          "text": "Data"
         }
        },
        "yaxis": {
         "title": {
          "text": "Valor do DEC"
         }
        }
       }
      }
     },
     "metadata": {},
     "output_type": "display_data"
    }
   ],
   "source": [
    "# Preparar dados para o DEC acumulado\n",
    "df_dec_acumulado = teste[['DATA', 'DEC']].copy()\n",
    "df_dec_acumulado.set_index('DATA', inplace=True)\n",
    "df_dec_acumulado = df_dec_acumulado.sort_index()\n",
    "df_dec_acumulado['DEC_ACUMULADO'] = df_dec_acumulado['DEC'].cumsum()  # Calcula o DEC acumulado\n",
    "\n",
    "# Preparar dados para DEC de cada interrupção\n",
    "df_dec_interrupcao = teste.copy()\n",
    "df_dec_interrupcao['DATA'] = pd.to_datetime(df_dec_interrupcao['DATA'])\n",
    "df_dec_interrupcao.set_index('DATA', inplace=True)\n",
    "df_dec_interrupcao = df_dec_interrupcao.sort_index()\n",
    "\n",
    "# Combine os dados\n",
    "df_combined = df_dec_acumulado[['DEC_ACUMULADO']].copy()\n",
    "df_combined['DEC_INTERUPCAO'] = df_dec_interrupcao['DEC']\n",
    "\n",
    "# Crie o gráfico de cascata (waterfall)\n",
    "fig = go.Figure()\n",
    "\n",
    "# Adiciona o gráfico de cascata\n",
    "fig.add_trace(go.Waterfall(\n",
    "    name=\"DEC por Interrupção\",\n",
    "    orientation=\"v\",\n",
    "    measure=[\"relative\"] * len(df_combined),  # \"relative\" indica que os valores são incrementais\n",
    "    x=df_combined.index.strftime('%d/%m/%Y'),  # Datas como rótulos\n",
    "    textposition=\"outside\",\n",
    "    text=df_combined['DEC_INTERUPCAO'].round(2).astype(str),  # Texto das barras\n",
    "    y=df_combined['DEC_INTERUPCAO'],  # Valores das interrupções\n",
    "    connector={\"line\": {\"color\": \"rgba(63, 63, 63, 0.7)\"}},  # Linha de conexão entre barras\n",
    "    increasing={\"marker\": {\"color\": \"#FABD0A\"}},  # Cor das barras para DEC\n",
    "    decreasing={\"marker\": {\"color\": \"#F15B40\"}},  # Cor das barras negativas (não aplicável aqui)\n",
    "    totals={\"marker\": {\"color\": \"#2F2E79\"}}  # Cor do total (não aplicável aqui)\n",
    "))\n",
    "\n",
    "# Adiciona a linha de DEC acumulado\n",
    "fig.add_trace(go.Scatter(\n",
    "    x=df_combined.index.strftime('%d/%m/%Y'),\n",
    "    y=df_combined['DEC_ACUMULADO'],\n",
    "    mode='lines+markers+text',\n",
    "    name='DEC Acumulado',\n",
    "    line=dict(color='#2F2E79', width=4),  # Aumenta a espessura da linha e define a cor\n",
    "    text=df_combined['DEC_ACUMULADO'].round(2).astype(str),  # Rótulo de dados\n",
    "    textposition='top center'  # Posição do rótulo de dados\n",
    "))\n",
    "\n",
    "# Ajuste o layout do gráfico\n",
    "fig.update_layout(\n",
    "    title=\"DEC Acumulado e DEC de Cada Interrupção\",\n",
    "    xaxis_title=\"Data\",\n",
    "    yaxis_title=\"Valor do DEC\",\n",
    "    height=600,\n",
    "    width=1000,\n",
    "    showlegend=True\n",
    ")\n",
    "\n",
    "fig.show()"
   ]
  },
  {
   "cell_type": "code",
   "execution_count": null,
   "metadata": {},
   "outputs": [],
   "source": []
  }
 ],
 "metadata": {
  "kernelspec": {
   "display_name": ".venv",
   "language": "python",
   "name": "python3"
  },
  "language_info": {
   "codemirror_mode": {
    "name": "ipython",
    "version": 3
   },
   "file_extension": ".py",
   "mimetype": "text/x-python",
   "name": "python",
   "nbconvert_exporter": "python",
   "pygments_lexer": "ipython3",
   "version": "3.12.4"
  }
 },
 "nbformat": 4,
 "nbformat_minor": 2
}
